{
 "cells": [
  {
   "cell_type": "markdown",
   "metadata": {
    "colab_type": "text",
    "id": "view-in-github"
   },
   "source": [
    "<a href=\"https://colab.research.google.com/github/AmanDesai-coder/CBCA_Ndosho_Electricity_Analysis/blob/main/AmanElectricityAnalysis.ipynb\" target=\"_parent\"><img src=\"https://colab.research.google.com/assets/colab-badge.svg\" alt=\"Open In Colab\"/></a>"
   ]
  },
  {
   "cell_type": "markdown",
   "metadata": {
    "id": "ghY-O0Pau6uh"
   },
   "source": [
    "NOTE: All work is based off of the kwh dataset initially created by Allison Wong."
   ]
  },
  {
   "cell_type": "markdown",
   "metadata": {
    "id": "DGK1S4CtyXHn"
   },
   "source": [
    "First let's import the libraries we will need."
   ]
  },
  {
   "cell_type": "code",
   "execution_count": 1,
   "metadata": {
    "id": "hlhUnBAIu3cT"
   },
   "outputs": [
    {
     "ename": "ModuleNotFoundError",
     "evalue": "No module named 'statsmodels'",
     "output_type": "error",
     "traceback": [
      "\u001b[0;31m---------------------------------------------------------------------------\u001b[0m",
      "\u001b[0;31mModuleNotFoundError\u001b[0m                       Traceback (most recent call last)",
      "Cell \u001b[0;32mIn[1], line 4\u001b[0m\n\u001b[1;32m      2\u001b[0m \u001b[38;5;28;01mimport\u001b[39;00m \u001b[38;5;21;01mpandas\u001b[39;00m \u001b[38;5;28;01mas\u001b[39;00m \u001b[38;5;21;01mpd\u001b[39;00m\n\u001b[1;32m      3\u001b[0m \u001b[38;5;28;01mimport\u001b[39;00m \u001b[38;5;21;01mmatplotlib\u001b[39;00m\u001b[38;5;21;01m.\u001b[39;00m\u001b[38;5;21;01mpyplot\u001b[39;00m \u001b[38;5;28;01mas\u001b[39;00m \u001b[38;5;21;01mplt\u001b[39;00m\n\u001b[0;32m----> 4\u001b[0m \u001b[38;5;28;01mimport\u001b[39;00m \u001b[38;5;21;01mstatsmodels\u001b[39;00m\u001b[38;5;21;01m.\u001b[39;00m\u001b[38;5;21;01mapi\u001b[39;00m \u001b[38;5;28;01mas\u001b[39;00m \u001b[38;5;21;01msm\u001b[39;00m \n\u001b[1;32m      5\u001b[0m \u001b[38;5;28;01mimport\u001b[39;00m \u001b[38;5;21;01mtraces\u001b[39;00m\n",
      "\u001b[0;31mModuleNotFoundError\u001b[0m: No module named 'statsmodels'"
     ]
    }
   ],
   "source": [
    "import numpy as np\n",
    "import pandas as pd\n",
    "import matplotlib.pyplot as plt\n",
    "import statsmodels.api as sm \n",
    "import traces"
   ]
  },
  {
   "cell_type": "markdown",
   "metadata": {
    "id": "Ia-EavlkyibD"
   },
   "source": [
    "Next, let's grab the dataframe from the GitHub link. If running locally, you may also use the local file path, but using the GitHub link allows you to run just this notebook without cloning the entire repo.\n",
    "\n",
    "Some data values have a missing hour component, so we put in noon as a default."
   ]
  },
  {
   "cell_type": "code",
   "execution_count": null,
   "metadata": {
    "colab": {
     "base_uri": "https://localhost:8080/",
     "height": 206
    },
    "id": "xPXgVAjtvNgS",
    "outputId": "d1c0ec6e-665f-4cc4-c98b-e374476799a3"
   },
   "outputs": [],
   "source": [
    "electr_df = pd.read_csv(\"https://raw.githubusercontent.com/AmanDesai-coder/CBCA_Ndosho_Electricity_Analysis/main/kwh-virunga.csv\")\n",
    "electr_df['Heure'] = electr_df['Heure'].fillna(\"12:00\") \n",
    "electr_df.head()"
   ]
  },
  {
   "cell_type": "code",
   "execution_count": null,
   "metadata": {
    "colab": {
     "base_uri": "https://localhost:8080/",
     "height": 206
    },
    "id": "IdPYDfsr0s9E",
    "outputId": "3f33b82b-1656-4cdb-cf04-c8ecf9fb5fa5"
   },
   "outputs": [],
   "source": [
    "electr_df[\"timestamp\"] = electr_df[\"Date\"] + [\" \"] + electr_df[\"Heure\"]\n",
    "electr_df[\"timestamp\"] = pd.to_datetime(electr_df[\"timestamp\"],format='%d-%m-%Y %H:%M')\n",
    "electr_df = electr_df.drop(['Jour', 'Heure', 'Date'], axis = 1)\n",
    "electr_df.head()"
   ]
  },
  {
   "cell_type": "markdown",
   "metadata": {
    "id": "hbeQ18dczKv3"
   },
   "source": [
    "The original column names are in French. We can use the pandas rename method to map these to English translations. Then, we sort the rows by timestamp so that the most recent data is at the end of the dataframe."
   ]
  },
  {
   "cell_type": "code",
   "execution_count": null,
   "metadata": {
    "colab": {
     "base_uri": "https://localhost:8080/",
     "height": 424
    },
    "id": "ohZDmQR4xGRU",
    "outputId": "4a8e1c38-6223-43fa-f38b-9070dabd8ea0"
   },
   "outputs": [],
   "source": [
    "electr_df = electr_df.rename(columns = {'KwH Restant' : 'kwH Remaining', 'Achat KwH' : 'kwH Purchased'})\n",
    "electr_df = electr_df.sort_values('timestamp').reset_index()\n",
    "electr_df"
   ]
  },
  {
   "cell_type": "markdown",
   "metadata": {
    "id": "FEae9KUFzKJ9"
   },
   "source": [
    "For each row, we calculate the total amount of electricity purchased at or before the corresponding timestamp. We then subtract the remaining kwH from that value for each row to get the total amount of electricity consumed at or before the corresponding timestamp."
   ]
  },
  {
   "cell_type": "code",
   "execution_count": null,
   "metadata": {
    "colab": {
     "base_uri": "https://localhost:8080/",
     "height": 424
    },
    "id": "uOIIIZ_zzI7J",
    "outputId": "46693a5f-fed4-489b-c8eb-ca1530b28560"
   },
   "outputs": [],
   "source": [
    "electr_df['Total kwH Purchased'] = np.cumsum(electr_df['kwH Purchased'].values)\n",
    "electr_df['Total kwH Consumed'] = electr_df['Total kwH Purchased'] - electr_df['kwH Remaining']\n",
    "electr_df"
   ]
  },
  {
   "cell_type": "markdown",
   "metadata": {
    "id": "F3y6WDnR5DEo"
   },
   "source": [
    "Note that the first few values of the \"Total kwH Consumed\" column are negative. This is because the energy purchased before the survey began is not accounted for, even though it is that energy being used for the first few days. We adjust for this by adding the first value of the \"kwH Remaining\" column to the \"Total kwH Consumed\" column."
   ]
  },
  {
   "cell_type": "code",
   "execution_count": null,
   "metadata": {
    "colab": {
     "base_uri": "https://localhost:8080/",
     "height": 424
    },
    "id": "u5r4-r0EzBOC",
    "outputId": "9eec93e9-5306-438c-d660-46121bc38f9d"
   },
   "outputs": [],
   "source": [
    "electr_df['Total kwH Consumed'] = electr_df['kwH Remaining'].iloc[0] + electr_df['Total kwH Consumed']\n",
    "electr_df"
   ]
  },
  {
   "cell_type": "code",
   "execution_count": null,
   "metadata": {
    "colab": {
     "base_uri": "https://localhost:8080/",
     "height": 448
    },
    "id": "AOTCzZ9T7zUP",
    "outputId": "58218083-3c5a-4505-865b-c17af3eacead"
   },
   "outputs": [],
   "source": [
    "plt.plot(electr_df['timestamp'], electr_df['Total kwH Consumed'])"
   ]
  },
  {
   "cell_type": "code",
   "execution_count": null,
   "metadata": {
    "id": "8jDRjq2F2pOw"
   },
   "outputs": [],
   "source": [
    "ts = traces.TimeSeries(list(electr_df[['timestamp', 'Total kwH Consumed']].itertuples(index=False, name=None)))\n",
    "a = traces.TimeSeries(ts.sample(\n",
    "    sampling_period=pd.Timedelta(days = 7),\n",
    "    interpolate='linear'\n",
    "))\n"
   ]
  },
  {
   "cell_type": "code",
   "execution_count": null,
   "metadata": {
    "colab": {
     "base_uri": "https://localhost:8080/",
     "height": 169
    },
    "id": "Sr3F2_dTO1fG",
    "outputId": "c23d9f84-91d0-4fe1-c823-0b91c8eb9c93"
   },
   "outputs": [],
   "source": [
    "a.keys()"
   ]
  },
  {
   "cell_type": "code",
   "execution_count": null,
   "metadata": {
    "colab": {
     "base_uri": "https://localhost:8080/",
     "height": 133
    },
    "id": "swaMUgtv21pm",
    "outputId": "49387844-a1d2-4e24-8af5-bee31b87c13a"
   },
   "outputs": [],
   "source": [
    "#electr_df['dy'] = electr_df['Total kwH Consumed']\n",
    "new_df = pd.DataFrame()\n",
    "new_df['diff_timestamp'] = \n",
    "electr_df.set_index('timestamp')['Total kwH Consumed'].rolling('7D', center = True).mean()\n",
    "\n",
    "#electr_df['dy'] = np.gradient(electr_df['Total kwH Consumed'], (electr_df['timestamp'] - electr_df['timestamp'].iloc[0]).total_seconds())\n",
    "#electr_df.plot('timestamp', 'dy')\n",
    "#print(np.max(dy))"
   ]
  },
  {
   "cell_type": "code",
   "execution_count": null,
   "metadata": {
    "id": "HVg_0GOq9A-s"
   },
   "outputs": [],
   "source": [
    "X = electr_df['timestamp']\n",
    "X = sm.add_constant(X) #Adds constant term\n",
    "cz_df['w2_or_sc_nz_30_q1_diff'] = cz_df['w2_or_sc_nz_30_q1_m'] - cz_df['w2_or_sc_nz_30_q1_f']\n",
    "Y_bottom_income_quintile = cz_df['w2_or_sc_nz_30_q1_diff'] #Gender gap is outcome variable\n",
    "model = sm.OLS(Y_bottom_income_quintile, X, missing = 'drop').fit() \n",
    "model.summary()"
   ]
  },
  {
   "cell_type": "code",
   "execution_count": null,
   "metadata": {
    "id": "0aZFaOmCMUEG"
   },
   "outputs": [
    {
     "name": "stdout",
     "output_type": "stream",
     "text": [
      "Collecting statsmodels\n",
      "  Downloading statsmodels-0.14.0-cp310-cp310-macosx_11_0_arm64.whl (9.4 MB)\n",
      "\u001b[2K     \u001b[91m━━━━━━━━━━━━━━━━━━━━━━━━━━━━━\u001b[0m\u001b[90m╺\u001b[0m\u001b[90m━━━━━━━━━━\u001b[0m \u001b[32m6.9/9.4 MB\u001b[0m \u001b[31m87.0 kB/s\u001b[0m eta \u001b[36m0:00:29\u001b[0mm"
     ]
    }
   ],
   "source": [
    "pip install statsmodels"
   ]
  },
  {
   "cell_type": "code",
   "execution_count": null,
   "metadata": {},
   "outputs": [],
   "source": [
    "pip install traces"
   ]
  },
  {
   "cell_type": "code",
   "execution_count": null,
   "metadata": {},
   "outputs": [],
   "source": []
  }
 ],
 "metadata": {
  "colab": {
   "include_colab_link": true,
   "provenance": []
  },
  "kernelspec": {
   "display_name": "Python 3 (ipykernel)",
   "language": "python",
   "name": "python3"
  },
  "language_info": {
   "codemirror_mode": {
    "name": "ipython",
    "version": 3
   },
   "file_extension": ".py",
   "mimetype": "text/x-python",
   "name": "python",
   "nbconvert_exporter": "python",
   "pygments_lexer": "ipython3",
   "version": "3.10.9"
  }
 },
 "nbformat": 4,
 "nbformat_minor": 1
}
