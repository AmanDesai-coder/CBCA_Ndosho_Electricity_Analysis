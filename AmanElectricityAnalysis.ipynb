{
 "cells": [
  {
   "cell_type": "markdown",
   "metadata": {
    "colab_type": "text",
    "id": "view-in-github"
   },
   "source": [
    "<a href=\"https://colab.research.google.com/github/AmanDesai-coder/CBCA_Ndosho_Electricity_Analysis/blob/main/AmanElectricityAnalysis.ipynb\" target=\"_parent\"><img src=\"https://colab.research.google.com/assets/colab-badge.svg\" alt=\"Open In Colab\"/></a>"
   ]
  },
  {
   "cell_type": "markdown",
   "metadata": {
    "id": "ghY-O0Pau6uh"
   },
   "source": [
    "NOTE: All work is based off of the kwh dataset initially created by Allison Wong."
   ]
  },
  {
   "cell_type": "markdown",
   "metadata": {
    "id": "DGK1S4CtyXHn"
   },
   "source": [
    "First let's import the libraries we will need."
   ]
  },
  {
   "cell_type": "code",
   "execution_count": 1,
   "metadata": {
    "id": "hlhUnBAIu3cT"
   },
   "outputs": [],
   "source": [
    "import numpy as np\n",
    "import pandas as pd\n",
    "import matplotlib.pyplot as plt\n",
    "import statsmodels.api as sm \n",
    "import traces"
   ]
  },
  {
   "cell_type": "markdown",
   "metadata": {
    "id": "Ia-EavlkyibD"
   },
   "source": [
    "Next, let's grab the dataframe from the GitHub link. If running locally, you may also use the local file path, but using the GitHub link allows you to run just this notebook without cloning the entire repo.\n",
    "\n",
    "Some data values have a missing hour component, so we put in noon as a default."
   ]
  },
  {
   "cell_type": "code",
   "execution_count": 2,
   "metadata": {
    "colab": {
     "base_uri": "https://localhost:8080/",
     "height": 206
    },
    "id": "xPXgVAjtvNgS",
    "outputId": "d1c0ec6e-665f-4cc4-c98b-e374476799a3"
   },
   "outputs": [
    {
     "data": {
      "text/html": [
       "<div>\n",
       "<style scoped>\n",
       "    .dataframe tbody tr th:only-of-type {\n",
       "        vertical-align: middle;\n",
       "    }\n",
       "\n",
       "    .dataframe tbody tr th {\n",
       "        vertical-align: top;\n",
       "    }\n",
       "\n",
       "    .dataframe thead th {\n",
       "        text-align: right;\n",
       "    }\n",
       "</style>\n",
       "<table border=\"1\" class=\"dataframe\">\n",
       "  <thead>\n",
       "    <tr style=\"text-align: right;\">\n",
       "      <th></th>\n",
       "      <th>Jour</th>\n",
       "      <th>Date</th>\n",
       "      <th>Heure</th>\n",
       "      <th>KwH Restant</th>\n",
       "      <th>Achat KwH</th>\n",
       "    </tr>\n",
       "  </thead>\n",
       "  <tbody>\n",
       "    <tr>\n",
       "      <th>0</th>\n",
       "      <td>Mercredi</td>\n",
       "      <td>03-06-2020</td>\n",
       "      <td>18:30</td>\n",
       "      <td>500.0</td>\n",
       "      <td>0.0</td>\n",
       "    </tr>\n",
       "    <tr>\n",
       "      <th>1</th>\n",
       "      <td>Mercredi</td>\n",
       "      <td>03-06-2020</td>\n",
       "      <td>18:50</td>\n",
       "      <td>470.0</td>\n",
       "      <td>0.0</td>\n",
       "    </tr>\n",
       "    <tr>\n",
       "      <th>2</th>\n",
       "      <td>Jeudi</td>\n",
       "      <td>04-06-2020</td>\n",
       "      <td>8:00</td>\n",
       "      <td>420.0</td>\n",
       "      <td>0.0</td>\n",
       "    </tr>\n",
       "    <tr>\n",
       "      <th>3</th>\n",
       "      <td>Jeudi</td>\n",
       "      <td>04-06-2020</td>\n",
       "      <td>17:00</td>\n",
       "      <td>365.0</td>\n",
       "      <td>0.0</td>\n",
       "    </tr>\n",
       "    <tr>\n",
       "      <th>4</th>\n",
       "      <td>Vendredi</td>\n",
       "      <td>05-06-2020</td>\n",
       "      <td>8:00</td>\n",
       "      <td>310.0</td>\n",
       "      <td>0.0</td>\n",
       "    </tr>\n",
       "  </tbody>\n",
       "</table>\n",
       "</div>"
      ],
      "text/plain": [
       "       Jour        Date  Heure  KwH Restant  Achat KwH\n",
       "0  Mercredi  03-06-2020  18:30        500.0        0.0\n",
       "1  Mercredi  03-06-2020  18:50        470.0        0.0\n",
       "2     Jeudi  04-06-2020   8:00        420.0        0.0\n",
       "3     Jeudi  04-06-2020  17:00        365.0        0.0\n",
       "4  Vendredi  05-06-2020   8:00        310.0        0.0"
      ]
     },
     "execution_count": 2,
     "metadata": {},
     "output_type": "execute_result"
    }
   ],
   "source": [
    "electr_df = pd.read_csv(\"https://raw.githubusercontent.com/AmanDesai-coder/CBCA_Ndosho_Electricity_Analysis/main/kwh-virunga.csv\")\n",
    "electr_df['Heure'] = electr_df['Heure'].fillna(\"12:00\") \n",
    "electr_df.head()"
   ]
  },
  {
   "cell_type": "code",
   "execution_count": 3,
   "metadata": {
    "colab": {
     "base_uri": "https://localhost:8080/",
     "height": 206
    },
    "id": "IdPYDfsr0s9E",
    "outputId": "3f33b82b-1656-4cdb-cf04-c8ecf9fb5fa5"
   },
   "outputs": [
    {
     "data": {
      "text/html": [
       "<div>\n",
       "<style scoped>\n",
       "    .dataframe tbody tr th:only-of-type {\n",
       "        vertical-align: middle;\n",
       "    }\n",
       "\n",
       "    .dataframe tbody tr th {\n",
       "        vertical-align: top;\n",
       "    }\n",
       "\n",
       "    .dataframe thead th {\n",
       "        text-align: right;\n",
       "    }\n",
       "</style>\n",
       "<table border=\"1\" class=\"dataframe\">\n",
       "  <thead>\n",
       "    <tr style=\"text-align: right;\">\n",
       "      <th></th>\n",
       "      <th>KwH Restant</th>\n",
       "      <th>Achat KwH</th>\n",
       "      <th>timestamp</th>\n",
       "    </tr>\n",
       "  </thead>\n",
       "  <tbody>\n",
       "    <tr>\n",
       "      <th>0</th>\n",
       "      <td>500.0</td>\n",
       "      <td>0.0</td>\n",
       "      <td>2020-06-03 18:30:00</td>\n",
       "    </tr>\n",
       "    <tr>\n",
       "      <th>1</th>\n",
       "      <td>470.0</td>\n",
       "      <td>0.0</td>\n",
       "      <td>2020-06-03 18:50:00</td>\n",
       "    </tr>\n",
       "    <tr>\n",
       "      <th>2</th>\n",
       "      <td>420.0</td>\n",
       "      <td>0.0</td>\n",
       "      <td>2020-06-04 08:00:00</td>\n",
       "    </tr>\n",
       "    <tr>\n",
       "      <th>3</th>\n",
       "      <td>365.0</td>\n",
       "      <td>0.0</td>\n",
       "      <td>2020-06-04 17:00:00</td>\n",
       "    </tr>\n",
       "    <tr>\n",
       "      <th>4</th>\n",
       "      <td>310.0</td>\n",
       "      <td>0.0</td>\n",
       "      <td>2020-06-05 08:00:00</td>\n",
       "    </tr>\n",
       "  </tbody>\n",
       "</table>\n",
       "</div>"
      ],
      "text/plain": [
       "   KwH Restant  Achat KwH           timestamp\n",
       "0        500.0        0.0 2020-06-03 18:30:00\n",
       "1        470.0        0.0 2020-06-03 18:50:00\n",
       "2        420.0        0.0 2020-06-04 08:00:00\n",
       "3        365.0        0.0 2020-06-04 17:00:00\n",
       "4        310.0        0.0 2020-06-05 08:00:00"
      ]
     },
     "execution_count": 3,
     "metadata": {},
     "output_type": "execute_result"
    }
   ],
   "source": [
    "electr_df[\"timestamp\"] = electr_df[\"Date\"] + [\" \"] + electr_df[\"Heure\"]\n",
    "electr_df[\"timestamp\"] = pd.to_datetime(electr_df[\"timestamp\"],format='%d-%m-%Y %H:%M')\n",
    "electr_df = electr_df.drop(['Jour', 'Heure', 'Date'], axis = 1)\n",
    "electr_df.head()"
   ]
  },
  {
   "cell_type": "markdown",
   "metadata": {
    "id": "hbeQ18dczKv3"
   },
   "source": [
    "The original column names are in French. We can use the pandas rename method to map these to English translations. Then, we sort the rows by timestamp so that the most recent data is at the end of the dataframe."
   ]
  },
  {
   "cell_type": "code",
   "execution_count": 4,
   "metadata": {
    "colab": {
     "base_uri": "https://localhost:8080/",
     "height": 424
    },
    "id": "ohZDmQR4xGRU",
    "outputId": "4a8e1c38-6223-43fa-f38b-9070dabd8ea0"
   },
   "outputs": [
    {
     "data": {
      "text/html": [
       "<div>\n",
       "<style scoped>\n",
       "    .dataframe tbody tr th:only-of-type {\n",
       "        vertical-align: middle;\n",
       "    }\n",
       "\n",
       "    .dataframe tbody tr th {\n",
       "        vertical-align: top;\n",
       "    }\n",
       "\n",
       "    .dataframe thead th {\n",
       "        text-align: right;\n",
       "    }\n",
       "</style>\n",
       "<table border=\"1\" class=\"dataframe\">\n",
       "  <thead>\n",
       "    <tr style=\"text-align: right;\">\n",
       "      <th></th>\n",
       "      <th>index</th>\n",
       "      <th>kwH Remaining</th>\n",
       "      <th>kwH Purchased</th>\n",
       "      <th>timestamp</th>\n",
       "      <th>Month</th>\n",
       "      <th>Year</th>\n",
       "    </tr>\n",
       "  </thead>\n",
       "  <tbody>\n",
       "    <tr>\n",
       "      <th>0</th>\n",
       "      <td>0</td>\n",
       "      <td>500.00</td>\n",
       "      <td>0.0</td>\n",
       "      <td>2020-06-03 18:30:00</td>\n",
       "      <td>6</td>\n",
       "      <td>2020</td>\n",
       "    </tr>\n",
       "    <tr>\n",
       "      <th>1</th>\n",
       "      <td>1</td>\n",
       "      <td>470.00</td>\n",
       "      <td>0.0</td>\n",
       "      <td>2020-06-03 18:50:00</td>\n",
       "      <td>6</td>\n",
       "      <td>2020</td>\n",
       "    </tr>\n",
       "    <tr>\n",
       "      <th>2</th>\n",
       "      <td>2</td>\n",
       "      <td>420.00</td>\n",
       "      <td>0.0</td>\n",
       "      <td>2020-06-04 08:00:00</td>\n",
       "      <td>6</td>\n",
       "      <td>2020</td>\n",
       "    </tr>\n",
       "    <tr>\n",
       "      <th>3</th>\n",
       "      <td>3</td>\n",
       "      <td>365.00</td>\n",
       "      <td>0.0</td>\n",
       "      <td>2020-06-04 17:00:00</td>\n",
       "      <td>6</td>\n",
       "      <td>2020</td>\n",
       "    </tr>\n",
       "    <tr>\n",
       "      <th>4</th>\n",
       "      <td>4</td>\n",
       "      <td>310.00</td>\n",
       "      <td>0.0</td>\n",
       "      <td>2020-06-05 08:00:00</td>\n",
       "      <td>6</td>\n",
       "      <td>2020</td>\n",
       "    </tr>\n",
       "    <tr>\n",
       "      <th>...</th>\n",
       "      <td>...</td>\n",
       "      <td>...</td>\n",
       "      <td>...</td>\n",
       "      <td>...</td>\n",
       "      <td>...</td>\n",
       "      <td>...</td>\n",
       "    </tr>\n",
       "    <tr>\n",
       "      <th>1488</th>\n",
       "      <td>1488</td>\n",
       "      <td>288.81</td>\n",
       "      <td>0.0</td>\n",
       "      <td>2023-02-06 08:42:00</td>\n",
       "      <td>2</td>\n",
       "      <td>2023</td>\n",
       "    </tr>\n",
       "    <tr>\n",
       "      <th>1489</th>\n",
       "      <td>1489</td>\n",
       "      <td>93.58</td>\n",
       "      <td>0.0</td>\n",
       "      <td>2023-02-06 17:35:00</td>\n",
       "      <td>2</td>\n",
       "      <td>2023</td>\n",
       "    </tr>\n",
       "    <tr>\n",
       "      <th>1490</th>\n",
       "      <td>1490</td>\n",
       "      <td>801.06</td>\n",
       "      <td>800.0</td>\n",
       "      <td>2023-02-07 14:50:00</td>\n",
       "      <td>2</td>\n",
       "      <td>2023</td>\n",
       "    </tr>\n",
       "    <tr>\n",
       "      <th>1491</th>\n",
       "      <td>1491</td>\n",
       "      <td>766.15</td>\n",
       "      <td>0.0</td>\n",
       "      <td>2023-02-07 17:20:00</td>\n",
       "      <td>2</td>\n",
       "      <td>2023</td>\n",
       "    </tr>\n",
       "    <tr>\n",
       "      <th>1492</th>\n",
       "      <td>1492</td>\n",
       "      <td>611.47</td>\n",
       "      <td>0.0</td>\n",
       "      <td>2023-02-08 08:10:00</td>\n",
       "      <td>2</td>\n",
       "      <td>2023</td>\n",
       "    </tr>\n",
       "  </tbody>\n",
       "</table>\n",
       "<p>1493 rows × 6 columns</p>\n",
       "</div>"
      ],
      "text/plain": [
       "      index  kwH Remaining  kwH Purchased           timestamp  Month  Year\n",
       "0         0         500.00            0.0 2020-06-03 18:30:00      6  2020\n",
       "1         1         470.00            0.0 2020-06-03 18:50:00      6  2020\n",
       "2         2         420.00            0.0 2020-06-04 08:00:00      6  2020\n",
       "3         3         365.00            0.0 2020-06-04 17:00:00      6  2020\n",
       "4         4         310.00            0.0 2020-06-05 08:00:00      6  2020\n",
       "...     ...            ...            ...                 ...    ...   ...\n",
       "1488   1488         288.81            0.0 2023-02-06 08:42:00      2  2023\n",
       "1489   1489          93.58            0.0 2023-02-06 17:35:00      2  2023\n",
       "1490   1490         801.06          800.0 2023-02-07 14:50:00      2  2023\n",
       "1491   1491         766.15            0.0 2023-02-07 17:20:00      2  2023\n",
       "1492   1492         611.47            0.0 2023-02-08 08:10:00      2  2023\n",
       "\n",
       "[1493 rows x 6 columns]"
      ]
     },
     "execution_count": 4,
     "metadata": {},
     "output_type": "execute_result"
    }
   ],
   "source": [
    "electr_df = electr_df.rename(columns = {'KwH Restant' : 'kwH Remaining', 'Achat KwH' : 'kwH Purchased'})\n",
    "electr_df = electr_df.sort_values('timestamp').reset_index()\n",
    "electr_df[\"Month\"] = electr_df['timestamp'].apply(lambda x: x.month)\n",
    "electr_df[\"Year\"] = electr_df['timestamp'].apply(lambda x: x.year)\n",
    "electr_df"
   ]
  },
  {
   "cell_type": "markdown",
   "metadata": {
    "id": "FEae9KUFzKJ9"
   },
   "source": [
    "For each row, we calculate the total amount of electricity purchased at or before the corresponding timestamp. We then subtract the remaining kwH from that value for each row to get the total amount of electricity consumed at or before the corresponding timestamp."
   ]
  },
  {
   "cell_type": "code",
   "execution_count": 5,
   "metadata": {
    "colab": {
     "base_uri": "https://localhost:8080/",
     "height": 424
    },
    "id": "uOIIIZ_zzI7J",
    "outputId": "46693a5f-fed4-489b-c8eb-ca1530b28560"
   },
   "outputs": [
    {
     "data": {
      "text/html": [
       "<div>\n",
       "<style scoped>\n",
       "    .dataframe tbody tr th:only-of-type {\n",
       "        vertical-align: middle;\n",
       "    }\n",
       "\n",
       "    .dataframe tbody tr th {\n",
       "        vertical-align: top;\n",
       "    }\n",
       "\n",
       "    .dataframe thead th {\n",
       "        text-align: right;\n",
       "    }\n",
       "</style>\n",
       "<table border=\"1\" class=\"dataframe\">\n",
       "  <thead>\n",
       "    <tr style=\"text-align: right;\">\n",
       "      <th></th>\n",
       "      <th>index</th>\n",
       "      <th>kwH Remaining</th>\n",
       "      <th>kwH Purchased</th>\n",
       "      <th>timestamp</th>\n",
       "      <th>Month</th>\n",
       "      <th>Year</th>\n",
       "      <th>Total kwH Purchased</th>\n",
       "      <th>Total kwH Consumed</th>\n",
       "    </tr>\n",
       "  </thead>\n",
       "  <tbody>\n",
       "    <tr>\n",
       "      <th>0</th>\n",
       "      <td>0</td>\n",
       "      <td>500.00</td>\n",
       "      <td>0.0</td>\n",
       "      <td>2020-06-03 18:30:00</td>\n",
       "      <td>6</td>\n",
       "      <td>2020</td>\n",
       "      <td>0.00</td>\n",
       "      <td>-500.00</td>\n",
       "    </tr>\n",
       "    <tr>\n",
       "      <th>1</th>\n",
       "      <td>1</td>\n",
       "      <td>470.00</td>\n",
       "      <td>0.0</td>\n",
       "      <td>2020-06-03 18:50:00</td>\n",
       "      <td>6</td>\n",
       "      <td>2020</td>\n",
       "      <td>0.00</td>\n",
       "      <td>-470.00</td>\n",
       "    </tr>\n",
       "    <tr>\n",
       "      <th>2</th>\n",
       "      <td>2</td>\n",
       "      <td>420.00</td>\n",
       "      <td>0.0</td>\n",
       "      <td>2020-06-04 08:00:00</td>\n",
       "      <td>6</td>\n",
       "      <td>2020</td>\n",
       "      <td>0.00</td>\n",
       "      <td>-420.00</td>\n",
       "    </tr>\n",
       "    <tr>\n",
       "      <th>3</th>\n",
       "      <td>3</td>\n",
       "      <td>365.00</td>\n",
       "      <td>0.0</td>\n",
       "      <td>2020-06-04 17:00:00</td>\n",
       "      <td>6</td>\n",
       "      <td>2020</td>\n",
       "      <td>0.00</td>\n",
       "      <td>-365.00</td>\n",
       "    </tr>\n",
       "    <tr>\n",
       "      <th>4</th>\n",
       "      <td>4</td>\n",
       "      <td>310.00</td>\n",
       "      <td>0.0</td>\n",
       "      <td>2020-06-05 08:00:00</td>\n",
       "      <td>6</td>\n",
       "      <td>2020</td>\n",
       "      <td>0.00</td>\n",
       "      <td>-310.00</td>\n",
       "    </tr>\n",
       "    <tr>\n",
       "      <th>...</th>\n",
       "      <td>...</td>\n",
       "      <td>...</td>\n",
       "      <td>...</td>\n",
       "      <td>...</td>\n",
       "      <td>...</td>\n",
       "      <td>...</td>\n",
       "      <td>...</td>\n",
       "      <td>...</td>\n",
       "    </tr>\n",
       "    <tr>\n",
       "      <th>1488</th>\n",
       "      <td>1488</td>\n",
       "      <td>288.81</td>\n",
       "      <td>0.0</td>\n",
       "      <td>2023-02-06 08:42:00</td>\n",
       "      <td>2</td>\n",
       "      <td>2023</td>\n",
       "      <td>145355.23</td>\n",
       "      <td>145066.42</td>\n",
       "    </tr>\n",
       "    <tr>\n",
       "      <th>1489</th>\n",
       "      <td>1489</td>\n",
       "      <td>93.58</td>\n",
       "      <td>0.0</td>\n",
       "      <td>2023-02-06 17:35:00</td>\n",
       "      <td>2</td>\n",
       "      <td>2023</td>\n",
       "      <td>145355.23</td>\n",
       "      <td>145261.65</td>\n",
       "    </tr>\n",
       "    <tr>\n",
       "      <th>1490</th>\n",
       "      <td>1490</td>\n",
       "      <td>801.06</td>\n",
       "      <td>800.0</td>\n",
       "      <td>2023-02-07 14:50:00</td>\n",
       "      <td>2</td>\n",
       "      <td>2023</td>\n",
       "      <td>146155.23</td>\n",
       "      <td>145354.17</td>\n",
       "    </tr>\n",
       "    <tr>\n",
       "      <th>1491</th>\n",
       "      <td>1491</td>\n",
       "      <td>766.15</td>\n",
       "      <td>0.0</td>\n",
       "      <td>2023-02-07 17:20:00</td>\n",
       "      <td>2</td>\n",
       "      <td>2023</td>\n",
       "      <td>146155.23</td>\n",
       "      <td>145389.08</td>\n",
       "    </tr>\n",
       "    <tr>\n",
       "      <th>1492</th>\n",
       "      <td>1492</td>\n",
       "      <td>611.47</td>\n",
       "      <td>0.0</td>\n",
       "      <td>2023-02-08 08:10:00</td>\n",
       "      <td>2</td>\n",
       "      <td>2023</td>\n",
       "      <td>146155.23</td>\n",
       "      <td>145543.76</td>\n",
       "    </tr>\n",
       "  </tbody>\n",
       "</table>\n",
       "<p>1493 rows × 8 columns</p>\n",
       "</div>"
      ],
      "text/plain": [
       "      index  kwH Remaining  kwH Purchased           timestamp  Month  Year  \\\n",
       "0         0         500.00            0.0 2020-06-03 18:30:00      6  2020   \n",
       "1         1         470.00            0.0 2020-06-03 18:50:00      6  2020   \n",
       "2         2         420.00            0.0 2020-06-04 08:00:00      6  2020   \n",
       "3         3         365.00            0.0 2020-06-04 17:00:00      6  2020   \n",
       "4         4         310.00            0.0 2020-06-05 08:00:00      6  2020   \n",
       "...     ...            ...            ...                 ...    ...   ...   \n",
       "1488   1488         288.81            0.0 2023-02-06 08:42:00      2  2023   \n",
       "1489   1489          93.58            0.0 2023-02-06 17:35:00      2  2023   \n",
       "1490   1490         801.06          800.0 2023-02-07 14:50:00      2  2023   \n",
       "1491   1491         766.15            0.0 2023-02-07 17:20:00      2  2023   \n",
       "1492   1492         611.47            0.0 2023-02-08 08:10:00      2  2023   \n",
       "\n",
       "      Total kwH Purchased  Total kwH Consumed  \n",
       "0                    0.00             -500.00  \n",
       "1                    0.00             -470.00  \n",
       "2                    0.00             -420.00  \n",
       "3                    0.00             -365.00  \n",
       "4                    0.00             -310.00  \n",
       "...                   ...                 ...  \n",
       "1488            145355.23           145066.42  \n",
       "1489            145355.23           145261.65  \n",
       "1490            146155.23           145354.17  \n",
       "1491            146155.23           145389.08  \n",
       "1492            146155.23           145543.76  \n",
       "\n",
       "[1493 rows x 8 columns]"
      ]
     },
     "execution_count": 5,
     "metadata": {},
     "output_type": "execute_result"
    }
   ],
   "source": [
    "electr_df['Total kwH Purchased'] = np.cumsum(electr_df['kwH Purchased'].values)\n",
    "electr_df['Total kwH Consumed'] = electr_df['Total kwH Purchased'] - electr_df['kwH Remaining']\n",
    "electr_df"
   ]
  },
  {
   "cell_type": "markdown",
   "metadata": {
    "id": "F3y6WDnR5DEo"
   },
   "source": [
    "Note that the first few values of the \"Total kwH Consumed\" column are negative. This is because the energy purchased before the survey began is not accounted for, even though it is that energy being used for the first few days. We adjust for this by adding the first value of the \"kwH Remaining\" column to the \"Total kwH Consumed\" column."
   ]
  },
  {
   "cell_type": "code",
   "execution_count": 6,
   "metadata": {
    "colab": {
     "base_uri": "https://localhost:8080/",
     "height": 424
    },
    "id": "u5r4-r0EzBOC",
    "outputId": "9eec93e9-5306-438c-d660-46121bc38f9d"
   },
   "outputs": [
    {
     "data": {
      "text/html": [
       "<div>\n",
       "<style scoped>\n",
       "    .dataframe tbody tr th:only-of-type {\n",
       "        vertical-align: middle;\n",
       "    }\n",
       "\n",
       "    .dataframe tbody tr th {\n",
       "        vertical-align: top;\n",
       "    }\n",
       "\n",
       "    .dataframe thead th {\n",
       "        text-align: right;\n",
       "    }\n",
       "</style>\n",
       "<table border=\"1\" class=\"dataframe\">\n",
       "  <thead>\n",
       "    <tr style=\"text-align: right;\">\n",
       "      <th></th>\n",
       "      <th>index</th>\n",
       "      <th>kwH Remaining</th>\n",
       "      <th>kwH Purchased</th>\n",
       "      <th>timestamp</th>\n",
       "      <th>Month</th>\n",
       "      <th>Year</th>\n",
       "      <th>Total kwH Purchased</th>\n",
       "      <th>Total kwH Consumed</th>\n",
       "    </tr>\n",
       "  </thead>\n",
       "  <tbody>\n",
       "    <tr>\n",
       "      <th>0</th>\n",
       "      <td>0</td>\n",
       "      <td>500.00</td>\n",
       "      <td>0.0</td>\n",
       "      <td>2020-06-03 18:30:00</td>\n",
       "      <td>6</td>\n",
       "      <td>2020</td>\n",
       "      <td>0.00</td>\n",
       "      <td>0.00</td>\n",
       "    </tr>\n",
       "    <tr>\n",
       "      <th>1</th>\n",
       "      <td>1</td>\n",
       "      <td>470.00</td>\n",
       "      <td>0.0</td>\n",
       "      <td>2020-06-03 18:50:00</td>\n",
       "      <td>6</td>\n",
       "      <td>2020</td>\n",
       "      <td>0.00</td>\n",
       "      <td>30.00</td>\n",
       "    </tr>\n",
       "    <tr>\n",
       "      <th>2</th>\n",
       "      <td>2</td>\n",
       "      <td>420.00</td>\n",
       "      <td>0.0</td>\n",
       "      <td>2020-06-04 08:00:00</td>\n",
       "      <td>6</td>\n",
       "      <td>2020</td>\n",
       "      <td>0.00</td>\n",
       "      <td>80.00</td>\n",
       "    </tr>\n",
       "    <tr>\n",
       "      <th>3</th>\n",
       "      <td>3</td>\n",
       "      <td>365.00</td>\n",
       "      <td>0.0</td>\n",
       "      <td>2020-06-04 17:00:00</td>\n",
       "      <td>6</td>\n",
       "      <td>2020</td>\n",
       "      <td>0.00</td>\n",
       "      <td>135.00</td>\n",
       "    </tr>\n",
       "    <tr>\n",
       "      <th>4</th>\n",
       "      <td>4</td>\n",
       "      <td>310.00</td>\n",
       "      <td>0.0</td>\n",
       "      <td>2020-06-05 08:00:00</td>\n",
       "      <td>6</td>\n",
       "      <td>2020</td>\n",
       "      <td>0.00</td>\n",
       "      <td>190.00</td>\n",
       "    </tr>\n",
       "    <tr>\n",
       "      <th>...</th>\n",
       "      <td>...</td>\n",
       "      <td>...</td>\n",
       "      <td>...</td>\n",
       "      <td>...</td>\n",
       "      <td>...</td>\n",
       "      <td>...</td>\n",
       "      <td>...</td>\n",
       "      <td>...</td>\n",
       "    </tr>\n",
       "    <tr>\n",
       "      <th>1488</th>\n",
       "      <td>1488</td>\n",
       "      <td>288.81</td>\n",
       "      <td>0.0</td>\n",
       "      <td>2023-02-06 08:42:00</td>\n",
       "      <td>2</td>\n",
       "      <td>2023</td>\n",
       "      <td>145355.23</td>\n",
       "      <td>145566.42</td>\n",
       "    </tr>\n",
       "    <tr>\n",
       "      <th>1489</th>\n",
       "      <td>1489</td>\n",
       "      <td>93.58</td>\n",
       "      <td>0.0</td>\n",
       "      <td>2023-02-06 17:35:00</td>\n",
       "      <td>2</td>\n",
       "      <td>2023</td>\n",
       "      <td>145355.23</td>\n",
       "      <td>145761.65</td>\n",
       "    </tr>\n",
       "    <tr>\n",
       "      <th>1490</th>\n",
       "      <td>1490</td>\n",
       "      <td>801.06</td>\n",
       "      <td>800.0</td>\n",
       "      <td>2023-02-07 14:50:00</td>\n",
       "      <td>2</td>\n",
       "      <td>2023</td>\n",
       "      <td>146155.23</td>\n",
       "      <td>145854.17</td>\n",
       "    </tr>\n",
       "    <tr>\n",
       "      <th>1491</th>\n",
       "      <td>1491</td>\n",
       "      <td>766.15</td>\n",
       "      <td>0.0</td>\n",
       "      <td>2023-02-07 17:20:00</td>\n",
       "      <td>2</td>\n",
       "      <td>2023</td>\n",
       "      <td>146155.23</td>\n",
       "      <td>145889.08</td>\n",
       "    </tr>\n",
       "    <tr>\n",
       "      <th>1492</th>\n",
       "      <td>1492</td>\n",
       "      <td>611.47</td>\n",
       "      <td>0.0</td>\n",
       "      <td>2023-02-08 08:10:00</td>\n",
       "      <td>2</td>\n",
       "      <td>2023</td>\n",
       "      <td>146155.23</td>\n",
       "      <td>146043.76</td>\n",
       "    </tr>\n",
       "  </tbody>\n",
       "</table>\n",
       "<p>1493 rows × 8 columns</p>\n",
       "</div>"
      ],
      "text/plain": [
       "      index  kwH Remaining  kwH Purchased           timestamp  Month  Year  \\\n",
       "0         0         500.00            0.0 2020-06-03 18:30:00      6  2020   \n",
       "1         1         470.00            0.0 2020-06-03 18:50:00      6  2020   \n",
       "2         2         420.00            0.0 2020-06-04 08:00:00      6  2020   \n",
       "3         3         365.00            0.0 2020-06-04 17:00:00      6  2020   \n",
       "4         4         310.00            0.0 2020-06-05 08:00:00      6  2020   \n",
       "...     ...            ...            ...                 ...    ...   ...   \n",
       "1488   1488         288.81            0.0 2023-02-06 08:42:00      2  2023   \n",
       "1489   1489          93.58            0.0 2023-02-06 17:35:00      2  2023   \n",
       "1490   1490         801.06          800.0 2023-02-07 14:50:00      2  2023   \n",
       "1491   1491         766.15            0.0 2023-02-07 17:20:00      2  2023   \n",
       "1492   1492         611.47            0.0 2023-02-08 08:10:00      2  2023   \n",
       "\n",
       "      Total kwH Purchased  Total kwH Consumed  \n",
       "0                    0.00                0.00  \n",
       "1                    0.00               30.00  \n",
       "2                    0.00               80.00  \n",
       "3                    0.00              135.00  \n",
       "4                    0.00              190.00  \n",
       "...                   ...                 ...  \n",
       "1488            145355.23           145566.42  \n",
       "1489            145355.23           145761.65  \n",
       "1490            146155.23           145854.17  \n",
       "1491            146155.23           145889.08  \n",
       "1492            146155.23           146043.76  \n",
       "\n",
       "[1493 rows x 8 columns]"
      ]
     },
     "execution_count": 6,
     "metadata": {},
     "output_type": "execute_result"
    }
   ],
   "source": [
    "electr_df['Total kwH Consumed'] = electr_df['kwH Remaining'].iloc[0] + electr_df['Total kwH Consumed']\n",
    "electr_df"
   ]
  },
  {
   "cell_type": "code",
   "execution_count": 7,
   "metadata": {},
   "outputs": [
    {
     "data": {
      "text/plain": [
       "[<matplotlib.lines.Line2D at 0x121902590>]"
      ]
     },
     "execution_count": 7,
     "metadata": {},
     "output_type": "execute_result"
    },
    {
     "data": {
      "image/png": "[encoded data removed]",
      "text/plain": [
       "<Figure size 640x480 with 1 Axes>"
      ]
     },
     "metadata": {},
     "output_type": "display_data"
    }
   ],
   "source": [
    "plt.plot(electr_df['timestamp'])"
   ]
  },
  {
   "cell_type": "code",
   "execution_count": 8,
   "metadata": {
    "colab": {
     "base_uri": "https://localhost:8080/",
     "height": 448
    },
    "id": "AOTCzZ9T7zUP",
    "outputId": "58218083-3c5a-4505-865b-c17af3eacead"
   },
   "outputs": [
    {
     "data": {
      "text/plain": [
       "[<matplotlib.lines.Line2D at 0x121be6c80>]"
      ]
     },
     "execution_count": 8,
     "metadata": {},
     "output_type": "execute_result"
    },
    {
     "data": {
      "image/png": "[encoded data removed]",
      "text/plain": [
       "<Figure size 640x480 with 1 Axes>"
      ]
     },
     "metadata": {},
     "output_type": "display_data"
    }
   ],
   "source": [
    "plt.plot(electr_df['timestamp'], electr_df['Total kwH Consumed'])"
   ]
  },
  {
   "cell_type": "code",
   "execution_count": 9,
   "metadata": {},
   "outputs": [
    {
     "data": {
      "text/html": [
       "<table class=\"simpletable\">\n",
       "<caption>OLS Regression Results</caption>\n",
       "<tr>\n",
       "  <th>Dep. Variable:</th>    <td>Total kwH Consumed</td> <th>  R-squared:         </th> <td>   0.993</td> \n",
       "</tr>\n",
       "<tr>\n",
       "  <th>Model:</th>                    <td>OLS</td>        <th>  Adj. R-squared:    </th> <td>   0.993</td> \n",
       "</tr>\n",
       "<tr>\n",
       "  <th>Method:</th>              <td>Least Squares</td>   <th>  F-statistic:       </th> <td>2.269e+05</td>\n",
       "</tr>\n",
       "<tr>\n",
       "  <th>Date:</th>              <td>Mon, 05 Jun 2023</td>  <th>  Prob (F-statistic):</th>  <td>  0.00</td>  \n",
       "</tr>\n",
       "<tr>\n",
       "  <th>Time:</th>                  <td>20:42:33</td>      <th>  Log-Likelihood:    </th> <td> -14251.</td> \n",
       "</tr>\n",
       "<tr>\n",
       "  <th>No. Observations:</th>       <td>  1493</td>       <th>  AIC:               </th> <td>2.851e+04</td>\n",
       "</tr>\n",
       "<tr>\n",
       "  <th>Df Residuals:</th>           <td>  1491</td>       <th>  BIC:               </th> <td>2.852e+04</td>\n",
       "</tr>\n",
       "<tr>\n",
       "  <th>Df Model:</th>               <td>     1</td>       <th>                     </th>     <td> </td>    \n",
       "</tr>\n",
       "<tr>\n",
       "  <th>Covariance Type:</th>       <td>nonrobust</td>     <th>                     </th>     <td> </td>    \n",
       "</tr>\n",
       "</table>\n",
       "<table class=\"simpletable\">\n",
       "<tr>\n",
       "      <td></td>         <th>coef</th>     <th>std err</th>      <th>t</th>      <th>P>|t|</th>  <th>[0.025</th>    <th>0.975]</th>  \n",
       "</tr>\n",
       "<tr>\n",
       "  <th>const</th>     <td>-3996.3797</td> <td>  169.066</td> <td>  -23.638</td> <td> 0.000</td> <td>-4328.011</td> <td>-3664.748</td>\n",
       "</tr>\n",
       "<tr>\n",
       "  <th>timestamp</th> <td>  142.4197</td> <td>    0.299</td> <td>  476.392</td> <td> 0.000</td> <td>  141.833</td> <td>  143.006</td>\n",
       "</tr>\n",
       "</table>\n",
       "<table class=\"simpletable\">\n",
       "<tr>\n",
       "  <th>Omnibus:</th>       <td>113.085</td> <th>  Durbin-Watson:     </th> <td>   0.004</td>\n",
       "</tr>\n",
       "<tr>\n",
       "  <th>Prob(Omnibus):</th> <td> 0.000</td>  <th>  Jarque-Bera (JB):  </th> <td> 137.679</td>\n",
       "</tr>\n",
       "<tr>\n",
       "  <th>Skew:</th>          <td> 0.728</td>  <th>  Prob(JB):          </th> <td>1.27e-30</td>\n",
       "</tr>\n",
       "<tr>\n",
       "  <th>Kurtosis:</th>      <td> 3.309</td>  <th>  Cond. No.          </th> <td>1.09e+03</td>\n",
       "</tr>\n",
       "</table><br/><br/>Notes:<br/>[1] Standard Errors assume that the covariance matrix of the errors is correctly specified.<br/>[2] The condition number is large, 1.09e+03. This might indicate that there are<br/>strong multicollinearity or other numerical problems."
      ],
      "text/latex": [
       "\\begin{center}\n",
       "\\begin{tabular}{lclc}\n",
       "\\toprule\n",
       "\\textbf{Dep. Variable:}    & Total kwH Consumed & \\textbf{  R-squared:         } &     0.993   \\\\\n",
       "\\textbf{Model:}            &        OLS         & \\textbf{  Adj. R-squared:    } &     0.993   \\\\\n",
       "\\textbf{Method:}           &   Least Squares    & \\textbf{  F-statistic:       } & 2.269e+05   \\\\\n",
       "\\textbf{Date:}             &  Mon, 05 Jun 2023  & \\textbf{  Prob (F-statistic):} &     0.00    \\\\\n",
       "\\textbf{Time:}             &      20:42:33      & \\textbf{  Log-Likelihood:    } &   -14251.   \\\\\n",
       "\\textbf{No. Observations:} &         1493       & \\textbf{  AIC:               } & 2.851e+04   \\\\\n",
       "\\textbf{Df Residuals:}     &         1491       & \\textbf{  BIC:               } & 2.852e+04   \\\\\n",
       "\\textbf{Df Model:}         &            1       & \\textbf{                     } &             \\\\\n",
       "\\textbf{Covariance Type:}  &     nonrobust      & \\textbf{                     } &             \\\\\n",
       "\\bottomrule\n",
       "\\end{tabular}\n",
       "\\begin{tabular}{lcccccc}\n",
       "                   & \\textbf{coef} & \\textbf{std err} & \\textbf{t} & \\textbf{P$> |$t$|$} & \\textbf{[0.025} & \\textbf{0.975]}  \\\\\n",
       "\\midrule\n",
       "\\textbf{const}     &   -3996.3797  &      169.066     &   -23.638  &         0.000        &    -4328.011    &    -3664.748     \\\\\n",
       "\\textbf{timestamp} &     142.4197  &        0.299     &   476.392  &         0.000        &      141.833    &      143.006     \\\\\n",
       "\\bottomrule\n",
       "\\end{tabular}\n",
       "\\begin{tabular}{lclc}\n",
       "\\textbf{Omnibus:}       & 113.085 & \\textbf{  Durbin-Watson:     } &    0.004  \\\\\n",
       "\\textbf{Prob(Omnibus):} &   0.000 & \\textbf{  Jarque-Bera (JB):  } &  137.679  \\\\\n",
       "\\textbf{Skew:}          &   0.728 & \\textbf{  Prob(JB):          } & 1.27e-30  \\\\\n",
       "\\textbf{Kurtosis:}      &   3.309 & \\textbf{  Cond. No.          } & 1.09e+03  \\\\\n",
       "\\bottomrule\n",
       "\\end{tabular}\n",
       "%\\caption{OLS Regression Results}\n",
       "\\end{center}\n",
       "\n",
       "Notes: \\newline\n",
       " [1] Standard Errors assume that the covariance matrix of the errors is correctly specified. \\newline\n",
       " [2] The condition number is large, 1.09e+03. This might indicate that there are \\newline\n",
       " strong multicollinearity or other numerical problems."
      ],
      "text/plain": [
       "<class 'statsmodels.iolib.summary.Summary'>\n",
       "\"\"\"\n",
       "                            OLS Regression Results                            \n",
       "==============================================================================\n",
       "Dep. Variable:     Total kwH Consumed   R-squared:                       0.993\n",
       "Model:                            OLS   Adj. R-squared:                  0.993\n",
       "Method:                 Least Squares   F-statistic:                 2.269e+05\n",
       "Date:                Mon, 05 Jun 2023   Prob (F-statistic):               0.00\n",
       "Time:                        20:42:33   Log-Likelihood:                -14251.\n",
       "No. Observations:                1493   AIC:                         2.851e+04\n",
       "Df Residuals:                    1491   BIC:                         2.852e+04\n",
       "Df Model:                           1                                         \n",
       "Covariance Type:            nonrobust                                         \n",
       "==============================================================================\n",
       "                 coef    std err          t      P>|t|      [0.025      0.975]\n",
       "------------------------------------------------------------------------------\n",
       "const      -3996.3797    169.066    -23.638      0.000   -4328.011   -3664.748\n",
       "timestamp    142.4197      0.299    476.392      0.000     141.833     143.006\n",
       "==============================================================================\n",
       "Omnibus:                      113.085   Durbin-Watson:                   0.004\n",
       "Prob(Omnibus):                  0.000   Jarque-Bera (JB):              137.679\n",
       "Skew:                           0.728   Prob(JB):                     1.27e-30\n",
       "Kurtosis:                       3.309   Cond. No.                     1.09e+03\n",
       "==============================================================================\n",
       "\n",
       "Notes:\n",
       "[1] Standard Errors assume that the covariance matrix of the errors is correctly specified.\n",
       "[2] The condition number is large, 1.09e+03. This might indicate that there are\n",
       "strong multicollinearity or other numerical problems.\n",
       "\"\"\""
      ]
     },
     "execution_count": 9,
     "metadata": {},
     "output_type": "execute_result"
    }
   ],
   "source": [
    "days = (electr_df['timestamp']-electr_df['timestamp'].iloc[0])\n",
    "X = days/pd.Timedelta(days = 1)\n",
    "X = sm.add_constant(X) #Adds constant term\n",
    "Y = electr_df['Total kwH Consumed']\n",
    "#cz_df['w2_or_sc_nz_30_q1_diff'] = cz_df['w2_or_sc_nz_30_q1_m'] - cz_df['w2_or_sc_nz_30_q1_f']\n",
    "#Y_bottom_income_quintile = cz_df['w2_or_sc_nz_30_q1_diff'] #Gender gap is outcome variable\n",
    "model = sm.OLS(Y, X, missing = 'drop').fit()\n",
    "model.summary()\n",
    "#plt.plot(days, Y)"
   ]
  },
  {
   "cell_type": "code",
   "execution_count": 30,
   "metadata": {
    "id": "8jDRjq2F2pOw"
   },
   "outputs": [],
   "source": [
    "ts = traces.TimeSeries(list(electr_df[['timestamp', 'Total kwH Consumed']].itertuples(index=False, name=None)))\n",
    "a = traces.TimeSeries(ts.sample(\n",
    "    sampling_period=pd.Timedelta(days = 1),\n",
    "    interpolate='linear'\n",
    "))\n"
   ]
  },
  {
   "cell_type": "code",
   "execution_count": 31,
   "metadata": {
    "colab": {
     "base_uri": "https://localhost:8080/",
     "height": 169
    },
    "id": "Sr3F2_dTO1fG",
    "outputId": "c23d9f84-91d0-4fe1-c823-0b91c8eb9c93"
   },
   "outputs": [
    {
     "data": {
      "text/plain": [
       "numpy.ndarray"
      ]
     },
     "execution_count": 31,
     "metadata": {},
     "output_type": "execute_result"
    },
    {
     "data": {
      "image/png": "[encoded data removed]",
      "text/plain": [
       "<Figure size 640x480 with 1 Axes>"
      ]
     },
     "metadata": {},
     "output_type": "display_data"
    }
   ],
   "source": [
    "time = np.array([x for x, y in a.items()])\n",
    "cons = [y for x, y in a.items()]\n",
    "plt.plot(cons)\n",
    "\n",
    "type(time)"
   ]
  },
  {
   "cell_type": "code",
   "execution_count": 32,
   "metadata": {},
   "outputs": [
    {
     "data": {
      "text/html": [
       "<table class=\"simpletable\">\n",
       "<caption>OLS Regression Results</caption>\n",
       "<tr>\n",
       "  <th>Dep. Variable:</th>            <td>y</td>        <th>  R-squared:         </th> <td>   0.062</td> \n",
       "</tr>\n",
       "<tr>\n",
       "  <th>Model:</th>                   <td>OLS</td>       <th>  Adj. R-squared:    </th> <td>   0.061</td> \n",
       "</tr>\n",
       "<tr>\n",
       "  <th>Method:</th>             <td>Least Squares</td>  <th>  F-statistic:       </th> <td>   64.71</td> \n",
       "</tr>\n",
       "<tr>\n",
       "  <th>Date:</th>             <td>Mon, 05 Jun 2023</td> <th>  Prob (F-statistic):</th> <td>2.50e-15</td> \n",
       "</tr>\n",
       "<tr>\n",
       "  <th>Time:</th>                 <td>20:52:46</td>     <th>  Log-Likelihood:    </th> <td> -5927.9</td> \n",
       "</tr>\n",
       "<tr>\n",
       "  <th>No. Observations:</th>      <td>   979</td>      <th>  AIC:               </th> <td>1.186e+04</td>\n",
       "</tr>\n",
       "<tr>\n",
       "  <th>Df Residuals:</th>          <td>   977</td>      <th>  BIC:               </th> <td>1.187e+04</td>\n",
       "</tr>\n",
       "<tr>\n",
       "  <th>Df Model:</th>              <td>     1</td>      <th>                     </th>     <td> </td>    \n",
       "</tr>\n",
       "<tr>\n",
       "  <th>Covariance Type:</th>      <td>nonrobust</td>    <th>                     </th>     <td> </td>    \n",
       "</tr>\n",
       "</table>\n",
       "<table class=\"simpletable\">\n",
       "<tr>\n",
       "    <td></td>       <th>coef</th>     <th>std err</th>      <th>t</th>      <th>P>|t|</th>  <th>[0.025</th>    <th>0.975]</th>  \n",
       "</tr>\n",
       "<tr>\n",
       "  <th>const</th> <td>  103.0067</td> <td>    6.605</td> <td>   15.596</td> <td> 0.000</td> <td>   90.046</td> <td>  115.968</td>\n",
       "</tr>\n",
       "<tr>\n",
       "  <th>0</th>     <td>    0.0939</td> <td>    0.012</td> <td>    8.044</td> <td> 0.000</td> <td>    0.071</td> <td>    0.117</td>\n",
       "</tr>\n",
       "</table>\n",
       "<table class=\"simpletable\">\n",
       "<tr>\n",
       "  <th>Omnibus:</th>       <td>191.440</td> <th>  Durbin-Watson:     </th> <td>   2.044</td>\n",
       "</tr>\n",
       "<tr>\n",
       "  <th>Prob(Omnibus):</th> <td> 0.000</td>  <th>  Jarque-Bera (JB):  </th> <td>4818.558</td>\n",
       "</tr>\n",
       "<tr>\n",
       "  <th>Skew:</th>          <td>-0.030</td>  <th>  Prob(JB):          </th> <td>    0.00</td>\n",
       "</tr>\n",
       "<tr>\n",
       "  <th>Kurtosis:</th>      <td>13.868</td>  <th>  Cond. No.          </th> <td>1.13e+03</td>\n",
       "</tr>\n",
       "</table><br/><br/>Notes:<br/>[1] Standard Errors assume that the covariance matrix of the errors is correctly specified.<br/>[2] The condition number is large, 1.13e+03. This might indicate that there are<br/>strong multicollinearity or other numerical problems."
      ],
      "text/latex": [
       "\\begin{center}\n",
       "\\begin{tabular}{lclc}\n",
       "\\toprule\n",
       "\\textbf{Dep. Variable:}    &        y         & \\textbf{  R-squared:         } &     0.062   \\\\\n",
       "\\textbf{Model:}            &       OLS        & \\textbf{  Adj. R-squared:    } &     0.061   \\\\\n",
       "\\textbf{Method:}           &  Least Squares   & \\textbf{  F-statistic:       } &     64.71   \\\\\n",
       "\\textbf{Date:}             & Mon, 05 Jun 2023 & \\textbf{  Prob (F-statistic):} &  2.50e-15   \\\\\n",
       "\\textbf{Time:}             &     20:52:46     & \\textbf{  Log-Likelihood:    } &   -5927.9   \\\\\n",
       "\\textbf{No. Observations:} &         979      & \\textbf{  AIC:               } & 1.186e+04   \\\\\n",
       "\\textbf{Df Residuals:}     &         977      & \\textbf{  BIC:               } & 1.187e+04   \\\\\n",
       "\\textbf{Df Model:}         &           1      & \\textbf{                     } &             \\\\\n",
       "\\textbf{Covariance Type:}  &    nonrobust     & \\textbf{                     } &             \\\\\n",
       "\\bottomrule\n",
       "\\end{tabular}\n",
       "\\begin{tabular}{lcccccc}\n",
       "               & \\textbf{coef} & \\textbf{std err} & \\textbf{t} & \\textbf{P$> |$t$|$} & \\textbf{[0.025} & \\textbf{0.975]}  \\\\\n",
       "\\midrule\n",
       "\\textbf{const} &     103.0067  &        6.605     &    15.596  &         0.000        &       90.046    &      115.968     \\\\\n",
       "\\textbf{0}     &       0.0939  &        0.012     &     8.044  &         0.000        &        0.071    &        0.117     \\\\\n",
       "\\bottomrule\n",
       "\\end{tabular}\n",
       "\\begin{tabular}{lclc}\n",
       "\\textbf{Omnibus:}       & 191.440 & \\textbf{  Durbin-Watson:     } &    2.044  \\\\\n",
       "\\textbf{Prob(Omnibus):} &   0.000 & \\textbf{  Jarque-Bera (JB):  } & 4818.558  \\\\\n",
       "\\textbf{Skew:}          &  -0.030 & \\textbf{  Prob(JB):          } &     0.00  \\\\\n",
       "\\textbf{Kurtosis:}      &  13.868 & \\textbf{  Cond. No.          } & 1.13e+03  \\\\\n",
       "\\bottomrule\n",
       "\\end{tabular}\n",
       "%\\caption{OLS Regression Results}\n",
       "\\end{center}\n",
       "\n",
       "Notes: \\newline\n",
       " [1] Standard Errors assume that the covariance matrix of the errors is correctly specified. \\newline\n",
       " [2] The condition number is large, 1.13e+03. This might indicate that there are \\newline\n",
       " strong multicollinearity or other numerical problems."
      ],
      "text/plain": [
       "<class 'statsmodels.iolib.summary.Summary'>\n",
       "\"\"\"\n",
       "                            OLS Regression Results                            \n",
       "==============================================================================\n",
       "Dep. Variable:                      y   R-squared:                       0.062\n",
       "Model:                            OLS   Adj. R-squared:                  0.061\n",
       "Method:                 Least Squares   F-statistic:                     64.71\n",
       "Date:                Mon, 05 Jun 2023   Prob (F-statistic):           2.50e-15\n",
       "Time:                        20:52:46   Log-Likelihood:                -5927.9\n",
       "No. Observations:                 979   AIC:                         1.186e+04\n",
       "Df Residuals:                     977   BIC:                         1.187e+04\n",
       "Df Model:                           1                                         \n",
       "Covariance Type:            nonrobust                                         \n",
       "==============================================================================\n",
       "                 coef    std err          t      P>|t|      [0.025      0.975]\n",
       "------------------------------------------------------------------------------\n",
       "const        103.0067      6.605     15.596      0.000      90.046     115.968\n",
       "0              0.0939      0.012      8.044      0.000       0.071       0.117\n",
       "==============================================================================\n",
       "Omnibus:                      191.440   Durbin-Watson:                   2.044\n",
       "Prob(Omnibus):                  0.000   Jarque-Bera (JB):             4818.558\n",
       "Skew:                          -0.030   Prob(JB):                         0.00\n",
       "Kurtosis:                      13.868   Cond. No.                     1.13e+03\n",
       "==============================================================================\n",
       "\n",
       "Notes:\n",
       "[1] Standard Errors assume that the covariance matrix of the errors is correctly specified.\n",
       "[2] The condition number is large, 1.13e+03. This might indicate that there are\n",
       "strong multicollinearity or other numerical problems.\n",
       "\"\"\""
      ]
     },
     "execution_count": 32,
     "metadata": {},
     "output_type": "execute_result"
    }
   ],
   "source": [
    "days = (pd.Series(time)-electr_df['timestamp'].iloc[0])[1:]\n",
    "X = days/pd.Timedelta(days = 1)\n",
    "X = sm.add_constant(X) #Adds constant term\n",
    "Y = np.diff(cons)\n",
    "#cz_df['w2_or_sc_nz_30_q1_diff'] = cz_df['w2_or_sc_nz_30_q1_m'] - cz_df['w2_or_sc_nz_30_q1_f']\n",
    "#Y_bottom_income_quintile = cz_df['w2_or_sc_nz_30_q1_diff'] #Gender gap is outcome variable\n",
    "model = sm.OLS(Y, X, missing = 'drop').fit()\n",
    "model.summary()\n",
    "#plt.plot( days/pd.Timedelta(days = 1), Y)"
   ]
  },
  {
   "cell_type": "code",
   "execution_count": 13,
   "metadata": {
    "colab": {
     "base_uri": "https://localhost:8080/",
     "height": 133
    },
    "id": "swaMUgtv21pm",
    "outputId": "49387844-a1d2-4e24-8af5-bee31b87c13a"
   },
   "outputs": [
    {
     "ename": "SyntaxError",
     "evalue": "invalid syntax (482648602.py, line 3)",
     "output_type": "error",
     "traceback": [
      "\u001b[0;36m  Cell \u001b[0;32mIn[13], line 3\u001b[0;36m\u001b[0m\n\u001b[0;31m    new_df['diff_timestamp'] =\u001b[0m\n\u001b[0m                               ^\u001b[0m\n\u001b[0;31mSyntaxError\u001b[0m\u001b[0;31m:\u001b[0m invalid syntax\n"
     ]
    }
   ],
   "source": [
    "#electr_df['dy'] = electr_df['Total kwH Consumed']\n",
    "new_df = pd.DataFrame()\n",
    "new_df['diff_timestamp'] = \n",
    "electr_df.set_index('timestamp')['Total kwH Consumed'].rolling('7D', center = True).mean()\n",
    "\n",
    "#electr_df['dy'] = np.gradient(electr_df['Total kwH Consumed'], (electr_df['timestamp'] - electr_df['timestamp'].iloc[0]).total_seconds())\n",
    "#electr_df.plot('timestamp', 'dy')\n",
    "#print(np.max(dy))"
   ]
  },
  {
   "cell_type": "code",
   "execution_count": null,
   "metadata": {
    "id": "HVg_0GOq9A-s"
   },
   "outputs": [],
   "source": [
    "X = electr_df['timestamp']\n",
    "X = sm.add_constant(X) #Adds constant term\n",
    "cz_df['w2_or_sc_nz_30_q1_diff'] = cz_df['w2_or_sc_nz_30_q1_m'] - cz_df['w2_or_sc_nz_30_q1_f']\n",
    "Y_bottom_income_quintile = cz_df['w2_or_sc_nz_30_q1_diff'] #Gender gap is outcome variable\n",
    "model = sm.OLS(Y_bottom_income_quintile, X, missing = 'drop').fit() \n",
    "model.summary()"
   ]
  },
  {
   "cell_type": "code",
   "execution_count": 25,
   "metadata": {},
   "outputs": [
    {
     "data": {
      "text/plain": [
       "<Axes: xlabel='Month'>"
      ]
     },
     "execution_count": 25,
     "metadata": {},
     "output_type": "execute_result"
    },
    {
     "data": {
      "image/png": "[encoded data removed]",
      "text/plain": [
       "<Figure size 640x480 with 1 Axes>"
      ]
     },
     "metadata": {},
     "output_type": "display_data"
    }
   ],
   "source": [
    "electr_df.groupby(['Month', 'Year'])['Total kwH Consumed'].apply(lambda x: x.max() - x.min()).reset_index().sort_values([ 'Year', 'Month']).reset_index().plot('Month', 'Total kwH Consumed')\n"
   ]
  },
  {
   "cell_type": "code",
   "execution_count": null,
   "metadata": {},
   "outputs": [],
   "source": []
  }
 ],
 "metadata": {
  "colab": {
   "include_colab_link": true,
   "provenance": []
  },
  "kernelspec": {
   "display_name": "Python 3 (ipykernel)",
   "language": "python",
   "name": "python3"
  },
  "language_info": {
   "codemirror_mode": {
    "name": "ipython",
    "version": 3
   },
   "file_extension": ".py",
   "mimetype": "text/x-python",
   "name": "python",
   "nbconvert_exporter": "python",
   "pygments_lexer": "ipython3",
   "version": "3.10.9"
  }
 },
 "nbformat": 4,
 "nbformat_minor": 1
}
