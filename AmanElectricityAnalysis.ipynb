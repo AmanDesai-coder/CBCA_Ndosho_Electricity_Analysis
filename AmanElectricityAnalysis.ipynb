{
 "cells": [
  {
   "cell_type": "markdown",
   "metadata": {
    "colab_type": "text",
    "id": "view-in-github"
   },
   "source": [
    "<a href=\"https://colab.research.google.com/github/AmanDesai-coder/CBCA_Ndosho_Electricity_Analysis/blob/main/AmanElectricityAnalysis.ipynb\" target=\"_parent\"><img src=\"https://colab.research.google.com/assets/colab-badge.svg\" alt=\"Open In Colab\"/></a>"
   ]
  },
  {
   "cell_type": "markdown",
   "metadata": {
    "id": "ghY-O0Pau6uh"
   },
   "source": [
    "NOTE: All work is based off of the kwh dataset initially created by Allison Wong."
   ]
  },
  {
   "cell_type": "markdown",
   "metadata": {
    "id": "DGK1S4CtyXHn"
   },
   "source": [
    "First let's import the libraries we will need."
   ]
  },
  {
   "cell_type": "code",
   "execution_count": 1,
   "metadata": {
    "id": "hlhUnBAIu3cT"
   },
   "outputs": [],
   "source": [
    "import numpy as np\n",
    "import pandas as pd\n",
    "import matplotlib.pyplot as plt\n",
    "import statsmodels.api as sm \n",
    "import traces"
   ]
  },
  {
   "cell_type": "markdown",
   "metadata": {
    "id": "Ia-EavlkyibD"
   },
   "source": [
    "Next, let's grab the dataframe from the GitHub link. If running locally, you may also use the local file path, but using the GitHub link allows you to run just this notebook without cloning the entire repo.\n",
    "\n",
    "Some data values have a missing hour component, so we put in noon as a default."
   ]
  },
  {
   "cell_type": "code",
   "execution_count": 2,
   "metadata": {
    "colab": {
     "base_uri": "https://localhost:8080/",
     "height": 206
    },
    "id": "xPXgVAjtvNgS",
    "outputId": "d1c0ec6e-665f-4cc4-c98b-e374476799a3"
   },
   "outputs": [
    {
     "data": {
      "text/html": [
       "<div>\n",
       "<style scoped>\n",
       "    .dataframe tbody tr th:only-of-type {\n",
       "        vertical-align: middle;\n",
       "    }\n",
       "\n",
       "    .dataframe tbody tr th {\n",
       "        vertical-align: top;\n",
       "    }\n",
       "\n",
       "    .dataframe thead th {\n",
       "        text-align: right;\n",
       "    }\n",
       "</style>\n",
       "<table border=\"1\" class=\"dataframe\">\n",
       "  <thead>\n",
       "    <tr style=\"text-align: right;\">\n",
       "      <th></th>\n",
       "      <th>Jour</th>\n",
       "      <th>Date</th>\n",
       "      <th>Heure</th>\n",
       "      <th>KwH Restant</th>\n",
       "      <th>Achat KwH</th>\n",
       "    </tr>\n",
       "  </thead>\n",
       "  <tbody>\n",
       "    <tr>\n",
       "      <th>0</th>\n",
       "      <td>Mercredi</td>\n",
       "      <td>03-06-2020</td>\n",
       "      <td>18:30</td>\n",
       "      <td>500.0</td>\n",
       "      <td>0.0</td>\n",
       "    </tr>\n",
       "    <tr>\n",
       "      <th>1</th>\n",
       "      <td>Mercredi</td>\n",
       "      <td>03-06-2020</td>\n",
       "      <td>18:50</td>\n",
       "      <td>470.0</td>\n",
       "      <td>0.0</td>\n",
       "    </tr>\n",
       "    <tr>\n",
       "      <th>2</th>\n",
       "      <td>Jeudi</td>\n",
       "      <td>04-06-2020</td>\n",
       "      <td>8:00</td>\n",
       "      <td>420.0</td>\n",
       "      <td>0.0</td>\n",
       "    </tr>\n",
       "    <tr>\n",
       "      <th>3</th>\n",
       "      <td>Jeudi</td>\n",
       "      <td>04-06-2020</td>\n",
       "      <td>17:00</td>\n",
       "      <td>365.0</td>\n",
       "      <td>0.0</td>\n",
       "    </tr>\n",
       "    <tr>\n",
       "      <th>4</th>\n",
       "      <td>Vendredi</td>\n",
       "      <td>05-06-2020</td>\n",
       "      <td>8:00</td>\n",
       "      <td>310.0</td>\n",
       "      <td>0.0</td>\n",
       "    </tr>\n",
       "  </tbody>\n",
       "</table>\n",
       "</div>"
      ],
      "text/plain": [
       "       Jour        Date  Heure  KwH Restant  Achat KwH\n",
       "0  Mercredi  03-06-2020  18:30        500.0        0.0\n",
       "1  Mercredi  03-06-2020  18:50        470.0        0.0\n",
       "2     Jeudi  04-06-2020   8:00        420.0        0.0\n",
       "3     Jeudi  04-06-2020  17:00        365.0        0.0\n",
       "4  Vendredi  05-06-2020   8:00        310.0        0.0"
      ]
     },
     "execution_count": 2,
     "metadata": {},
     "output_type": "execute_result"
    }
   ],
   "source": [
    "electr_df = pd.read_csv(\"https://raw.githubusercontent.com/AmanDesai-coder/CBCA_Ndosho_Electricity_Analysis/main/kwh-virunga.csv\")\n",
    "electr_df['Heure'] = electr_df['Heure'].fillna(\"12:00\") \n",
    "electr_df.head()"
   ]
  },
  {
   "cell_type": "code",
   "execution_count": 3,
   "metadata": {
    "colab": {
     "base_uri": "https://localhost:8080/",
     "height": 206
    },
    "id": "IdPYDfsr0s9E",
    "outputId": "3f33b82b-1656-4cdb-cf04-c8ecf9fb5fa5"
   },
   "outputs": [
    {
     "data": {
      "text/html": [
       "<div>\n",
       "<style scoped>\n",
       "    .dataframe tbody tr th:only-of-type {\n",
       "        vertical-align: middle;\n",
       "    }\n",
       "\n",
       "    .dataframe tbody tr th {\n",
       "        vertical-align: top;\n",
       "    }\n",
       "\n",
       "    .dataframe thead th {\n",
       "        text-align: right;\n",
       "    }\n",
       "</style>\n",
       "<table border=\"1\" class=\"dataframe\">\n",
       "  <thead>\n",
       "    <tr style=\"text-align: right;\">\n",
       "      <th></th>\n",
       "      <th>KwH Restant</th>\n",
       "      <th>Achat KwH</th>\n",
       "      <th>timestamp</th>\n",
       "    </tr>\n",
       "  </thead>\n",
       "  <tbody>\n",
       "    <tr>\n",
       "      <th>0</th>\n",
       "      <td>500.0</td>\n",
       "      <td>0.0</td>\n",
       "      <td>2020-06-03 18:30:00</td>\n",
       "    </tr>\n",
       "    <tr>\n",
       "      <th>1</th>\n",
       "      <td>470.0</td>\n",
       "      <td>0.0</td>\n",
       "      <td>2020-06-03 18:50:00</td>\n",
       "    </tr>\n",
       "    <tr>\n",
       "      <th>2</th>\n",
       "      <td>420.0</td>\n",
       "      <td>0.0</td>\n",
       "      <td>2020-06-04 08:00:00</td>\n",
       "    </tr>\n",
       "    <tr>\n",
       "      <th>3</th>\n",
       "      <td>365.0</td>\n",
       "      <td>0.0</td>\n",
       "      <td>2020-06-04 17:00:00</td>\n",
       "    </tr>\n",
       "    <tr>\n",
       "      <th>4</th>\n",
       "      <td>310.0</td>\n",
       "      <td>0.0</td>\n",
       "      <td>2020-06-05 08:00:00</td>\n",
       "    </tr>\n",
       "  </tbody>\n",
       "</table>\n",
       "</div>"
      ],
      "text/plain": [
       "   KwH Restant  Achat KwH           timestamp\n",
       "0        500.0        0.0 2020-06-03 18:30:00\n",
       "1        470.0        0.0 2020-06-03 18:50:00\n",
       "2        420.0        0.0 2020-06-04 08:00:00\n",
       "3        365.0        0.0 2020-06-04 17:00:00\n",
       "4        310.0        0.0 2020-06-05 08:00:00"
      ]
     },
     "execution_count": 3,
     "metadata": {},
     "output_type": "execute_result"
    }
   ],
   "source": [
    "electr_df[\"timestamp\"] = electr_df[\"Date\"] + [\" \"] + electr_df[\"Heure\"]\n",
    "electr_df[\"timestamp\"] = pd.to_datetime(electr_df[\"timestamp\"],format='%d-%m-%Y %H:%M')\n",
    "electr_df = electr_df.drop(['Jour', 'Heure', 'Date'], axis = 1)\n",
    "electr_df.head()"
   ]
  },
  {
   "cell_type": "markdown",
   "metadata": {
    "id": "hbeQ18dczKv3"
   },
   "source": [
    "The original column names are in French. We can use the pandas rename method to map these to English translations. Then, we sort the rows by timestamp so that the most recent data is at the end of the dataframe."
   ]
  },
  {
   "cell_type": "code",
   "execution_count": 4,
   "metadata": {
    "colab": {
     "base_uri": "https://localhost:8080/",
     "height": 424
    },
    "id": "ohZDmQR4xGRU",
    "outputId": "4a8e1c38-6223-43fa-f38b-9070dabd8ea0"
   },
   "outputs": [
    {
     "data": {
      "text/html": [
       "<div>\n",
       "<style scoped>\n",
       "    .dataframe tbody tr th:only-of-type {\n",
       "        vertical-align: middle;\n",
       "    }\n",
       "\n",
       "    .dataframe tbody tr th {\n",
       "        vertical-align: top;\n",
       "    }\n",
       "\n",
       "    .dataframe thead th {\n",
       "        text-align: right;\n",
       "    }\n",
       "</style>\n",
       "<table border=\"1\" class=\"dataframe\">\n",
       "  <thead>\n",
       "    <tr style=\"text-align: right;\">\n",
       "      <th></th>\n",
       "      <th>index</th>\n",
       "      <th>kwH Remaining</th>\n",
       "      <th>kwH Purchased</th>\n",
       "      <th>timestamp</th>\n",
       "      <th>Month</th>\n",
       "      <th>Year</th>\n",
       "    </tr>\n",
       "  </thead>\n",
       "  <tbody>\n",
       "    <tr>\n",
       "      <th>0</th>\n",
       "      <td>0</td>\n",
       "      <td>500.00</td>\n",
       "      <td>0.0</td>\n",
       "      <td>2020-06-03 18:30:00</td>\n",
       "      <td>6</td>\n",
       "      <td>2020</td>\n",
       "    </tr>\n",
       "    <tr>\n",
       "      <th>1</th>\n",
       "      <td>1</td>\n",
       "      <td>470.00</td>\n",
       "      <td>0.0</td>\n",
       "      <td>2020-06-03 18:50:00</td>\n",
       "      <td>6</td>\n",
       "      <td>2020</td>\n",
       "    </tr>\n",
       "    <tr>\n",
       "      <th>2</th>\n",
       "      <td>2</td>\n",
       "      <td>420.00</td>\n",
       "      <td>0.0</td>\n",
       "      <td>2020-06-04 08:00:00</td>\n",
       "      <td>6</td>\n",
       "      <td>2020</td>\n",
       "    </tr>\n",
       "    <tr>\n",
       "      <th>3</th>\n",
       "      <td>3</td>\n",
       "      <td>365.00</td>\n",
       "      <td>0.0</td>\n",
       "      <td>2020-06-04 17:00:00</td>\n",
       "      <td>6</td>\n",
       "      <td>2020</td>\n",
       "    </tr>\n",
       "    <tr>\n",
       "      <th>4</th>\n",
       "      <td>4</td>\n",
       "      <td>310.00</td>\n",
       "      <td>0.0</td>\n",
       "      <td>2020-06-05 08:00:00</td>\n",
       "      <td>6</td>\n",
       "      <td>2020</td>\n",
       "    </tr>\n",
       "    <tr>\n",
       "      <th>...</th>\n",
       "      <td>...</td>\n",
       "      <td>...</td>\n",
       "      <td>...</td>\n",
       "      <td>...</td>\n",
       "      <td>...</td>\n",
       "      <td>...</td>\n",
       "    </tr>\n",
       "    <tr>\n",
       "      <th>1488</th>\n",
       "      <td>1488</td>\n",
       "      <td>288.81</td>\n",
       "      <td>0.0</td>\n",
       "      <td>2023-02-06 08:42:00</td>\n",
       "      <td>2</td>\n",
       "      <td>2023</td>\n",
       "    </tr>\n",
       "    <tr>\n",
       "      <th>1489</th>\n",
       "      <td>1489</td>\n",
       "      <td>93.58</td>\n",
       "      <td>0.0</td>\n",
       "      <td>2023-02-06 17:35:00</td>\n",
       "      <td>2</td>\n",
       "      <td>2023</td>\n",
       "    </tr>\n",
       "    <tr>\n",
       "      <th>1490</th>\n",
       "      <td>1490</td>\n",
       "      <td>801.06</td>\n",
       "      <td>800.0</td>\n",
       "      <td>2023-02-07 14:50:00</td>\n",
       "      <td>2</td>\n",
       "      <td>2023</td>\n",
       "    </tr>\n",
       "    <tr>\n",
       "      <th>1491</th>\n",
       "      <td>1491</td>\n",
       "      <td>766.15</td>\n",
       "      <td>0.0</td>\n",
       "      <td>2023-02-07 17:20:00</td>\n",
       "      <td>2</td>\n",
       "      <td>2023</td>\n",
       "    </tr>\n",
       "    <tr>\n",
       "      <th>1492</th>\n",
       "      <td>1492</td>\n",
       "      <td>611.47</td>\n",
       "      <td>0.0</td>\n",
       "      <td>2023-02-08 08:10:00</td>\n",
       "      <td>2</td>\n",
       "      <td>2023</td>\n",
       "    </tr>\n",
       "  </tbody>\n",
       "</table>\n",
       "<p>1493 rows × 6 columns</p>\n",
       "</div>"
      ],
      "text/plain": [
       "      index  kwH Remaining  kwH Purchased           timestamp  Month  Year\n",
       "0         0         500.00            0.0 2020-06-03 18:30:00      6  2020\n",
       "1         1         470.00            0.0 2020-06-03 18:50:00      6  2020\n",
       "2         2         420.00            0.0 2020-06-04 08:00:00      6  2020\n",
       "3         3         365.00            0.0 2020-06-04 17:00:00      6  2020\n",
       "4         4         310.00            0.0 2020-06-05 08:00:00      6  2020\n",
       "...     ...            ...            ...                 ...    ...   ...\n",
       "1488   1488         288.81            0.0 2023-02-06 08:42:00      2  2023\n",
       "1489   1489          93.58            0.0 2023-02-06 17:35:00      2  2023\n",
       "1490   1490         801.06          800.0 2023-02-07 14:50:00      2  2023\n",
       "1491   1491         766.15            0.0 2023-02-07 17:20:00      2  2023\n",
       "1492   1492         611.47            0.0 2023-02-08 08:10:00      2  2023\n",
       "\n",
       "[1493 rows x 6 columns]"
      ]
     },
     "execution_count": 4,
     "metadata": {},
     "output_type": "execute_result"
    }
   ],
   "source": [
    "electr_df = electr_df.rename(columns = {'KwH Restant' : 'kwH Remaining', 'Achat KwH' : 'kwH Purchased'})\n",
    "electr_df = electr_df.sort_values('timestamp').reset_index()\n",
    "electr_df[\"Month\"] = electr_df['timestamp'].apply(lambda x: x.month)\n",
    "electr_df[\"Year\"] = electr_df['timestamp'].apply(lambda x: x.year)\n",
    "electr_df"
   ]
  },
  {
   "cell_type": "markdown",
   "metadata": {
    "id": "FEae9KUFzKJ9"
   },
   "source": [
    "For each row, we calculate the total amount of electricity purchased at or before the corresponding timestamp. We then subtract the remaining kwH from that value for each row to get the total amount of electricity consumed at or before the corresponding timestamp."
   ]
  },
  {
   "cell_type": "code",
   "execution_count": 5,
   "metadata": {
    "colab": {
     "base_uri": "https://localhost:8080/",
     "height": 424
    },
    "id": "uOIIIZ_zzI7J",
    "outputId": "46693a5f-fed4-489b-c8eb-ca1530b28560"
   },
   "outputs": [
    {
     "data": {
      "text/html": [
       "<div>\n",
       "<style scoped>\n",
       "    .dataframe tbody tr th:only-of-type {\n",
       "        vertical-align: middle;\n",
       "    }\n",
       "\n",
       "    .dataframe tbody tr th {\n",
       "        vertical-align: top;\n",
       "    }\n",
       "\n",
       "    .dataframe thead th {\n",
       "        text-align: right;\n",
       "    }\n",
       "</style>\n",
       "<table border=\"1\" class=\"dataframe\">\n",
       "  <thead>\n",
       "    <tr style=\"text-align: right;\">\n",
       "      <th></th>\n",
       "      <th>index</th>\n",
       "      <th>kwH Remaining</th>\n",
       "      <th>kwH Purchased</th>\n",
       "      <th>timestamp</th>\n",
       "      <th>Month</th>\n",
       "      <th>Year</th>\n",
       "      <th>Total kwH Purchased</th>\n",
       "      <th>Total kwH Consumed</th>\n",
       "    </tr>\n",
       "  </thead>\n",
       "  <tbody>\n",
       "    <tr>\n",
       "      <th>0</th>\n",
       "      <td>0</td>\n",
       "      <td>500.00</td>\n",
       "      <td>0.0</td>\n",
       "      <td>2020-06-03 18:30:00</td>\n",
       "      <td>6</td>\n",
       "      <td>2020</td>\n",
       "      <td>0.00</td>\n",
       "      <td>-500.00</td>\n",
       "    </tr>\n",
       "    <tr>\n",
       "      <th>1</th>\n",
       "      <td>1</td>\n",
       "      <td>470.00</td>\n",
       "      <td>0.0</td>\n",
       "      <td>2020-06-03 18:50:00</td>\n",
       "      <td>6</td>\n",
       "      <td>2020</td>\n",
       "      <td>0.00</td>\n",
       "      <td>-470.00</td>\n",
       "    </tr>\n",
       "    <tr>\n",
       "      <th>2</th>\n",
       "      <td>2</td>\n",
       "      <td>420.00</td>\n",
       "      <td>0.0</td>\n",
       "      <td>2020-06-04 08:00:00</td>\n",
       "      <td>6</td>\n",
       "      <td>2020</td>\n",
       "      <td>0.00</td>\n",
       "      <td>-420.00</td>\n",
       "    </tr>\n",
       "    <tr>\n",
       "      <th>3</th>\n",
       "      <td>3</td>\n",
       "      <td>365.00</td>\n",
       "      <td>0.0</td>\n",
       "      <td>2020-06-04 17:00:00</td>\n",
       "      <td>6</td>\n",
       "      <td>2020</td>\n",
       "      <td>0.00</td>\n",
       "      <td>-365.00</td>\n",
       "    </tr>\n",
       "    <tr>\n",
       "      <th>4</th>\n",
       "      <td>4</td>\n",
       "      <td>310.00</td>\n",
       "      <td>0.0</td>\n",
       "      <td>2020-06-05 08:00:00</td>\n",
       "      <td>6</td>\n",
       "      <td>2020</td>\n",
       "      <td>0.00</td>\n",
       "      <td>-310.00</td>\n",
       "    </tr>\n",
       "    <tr>\n",
       "      <th>...</th>\n",
       "      <td>...</td>\n",
       "      <td>...</td>\n",
       "      <td>...</td>\n",
       "      <td>...</td>\n",
       "      <td>...</td>\n",
       "      <td>...</td>\n",
       "      <td>...</td>\n",
       "      <td>...</td>\n",
       "    </tr>\n",
       "    <tr>\n",
       "      <th>1488</th>\n",
       "      <td>1488</td>\n",
       "      <td>288.81</td>\n",
       "      <td>0.0</td>\n",
       "      <td>2023-02-06 08:42:00</td>\n",
       "      <td>2</td>\n",
       "      <td>2023</td>\n",
       "      <td>145355.23</td>\n",
       "      <td>145066.42</td>\n",
       "    </tr>\n",
       "    <tr>\n",
       "      <th>1489</th>\n",
       "      <td>1489</td>\n",
       "      <td>93.58</td>\n",
       "      <td>0.0</td>\n",
       "      <td>2023-02-06 17:35:00</td>\n",
       "      <td>2</td>\n",
       "      <td>2023</td>\n",
       "      <td>145355.23</td>\n",
       "      <td>145261.65</td>\n",
       "    </tr>\n",
       "    <tr>\n",
       "      <th>1490</th>\n",
       "      <td>1490</td>\n",
       "      <td>801.06</td>\n",
       "      <td>800.0</td>\n",
       "      <td>2023-02-07 14:50:00</td>\n",
       "      <td>2</td>\n",
       "      <td>2023</td>\n",
       "      <td>146155.23</td>\n",
       "      <td>145354.17</td>\n",
       "    </tr>\n",
       "    <tr>\n",
       "      <th>1491</th>\n",
       "      <td>1491</td>\n",
       "      <td>766.15</td>\n",
       "      <td>0.0</td>\n",
       "      <td>2023-02-07 17:20:00</td>\n",
       "      <td>2</td>\n",
       "      <td>2023</td>\n",
       "      <td>146155.23</td>\n",
       "      <td>145389.08</td>\n",
       "    </tr>\n",
       "    <tr>\n",
       "      <th>1492</th>\n",
       "      <td>1492</td>\n",
       "      <td>611.47</td>\n",
       "      <td>0.0</td>\n",
       "      <td>2023-02-08 08:10:00</td>\n",
       "      <td>2</td>\n",
       "      <td>2023</td>\n",
       "      <td>146155.23</td>\n",
       "      <td>145543.76</td>\n",
       "    </tr>\n",
       "  </tbody>\n",
       "</table>\n",
       "<p>1493 rows × 8 columns</p>\n",
       "</div>"
      ],
      "text/plain": [
       "      index  kwH Remaining  kwH Purchased           timestamp  Month  Year  \\\n",
       "0         0         500.00            0.0 2020-06-03 18:30:00      6  2020   \n",
       "1         1         470.00            0.0 2020-06-03 18:50:00      6  2020   \n",
       "2         2         420.00            0.0 2020-06-04 08:00:00      6  2020   \n",
       "3         3         365.00            0.0 2020-06-04 17:00:00      6  2020   \n",
       "4         4         310.00            0.0 2020-06-05 08:00:00      6  2020   \n",
       "...     ...            ...            ...                 ...    ...   ...   \n",
       "1488   1488         288.81            0.0 2023-02-06 08:42:00      2  2023   \n",
       "1489   1489          93.58            0.0 2023-02-06 17:35:00      2  2023   \n",
       "1490   1490         801.06          800.0 2023-02-07 14:50:00      2  2023   \n",
       "1491   1491         766.15            0.0 2023-02-07 17:20:00      2  2023   \n",
       "1492   1492         611.47            0.0 2023-02-08 08:10:00      2  2023   \n",
       "\n",
       "      Total kwH Purchased  Total kwH Consumed  \n",
       "0                    0.00             -500.00  \n",
       "1                    0.00             -470.00  \n",
       "2                    0.00             -420.00  \n",
       "3                    0.00             -365.00  \n",
       "4                    0.00             -310.00  \n",
       "...                   ...                 ...  \n",
       "1488            145355.23           145066.42  \n",
       "1489            145355.23           145261.65  \n",
       "1490            146155.23           145354.17  \n",
       "1491            146155.23           145389.08  \n",
       "1492            146155.23           145543.76  \n",
       "\n",
       "[1493 rows x 8 columns]"
      ]
     },
     "execution_count": 5,
     "metadata": {},
     "output_type": "execute_result"
    }
   ],
   "source": [
    "electr_df['Total kwH Purchased'] = np.cumsum(electr_df['kwH Purchased'].values)\n",
    "electr_df['Total kwH Consumed'] = electr_df['Total kwH Purchased'] - electr_df['kwH Remaining']\n",
    "electr_df"
   ]
  },
  {
   "cell_type": "markdown",
   "metadata": {
    "id": "F3y6WDnR5DEo"
   },
   "source": [
    "Note that the first few values of the \"Total kwH Consumed\" column are negative. This is because the energy purchased before the survey began is not accounted for, even though it is that energy being used for the first few days. We adjust for this by adding the first value of the \"kwH Remaining\" column to the \"Total kwH Consumed\" column."
   ]
  },
  {
   "cell_type": "code",
   "execution_count": 6,
   "metadata": {
    "colab": {
     "base_uri": "https://localhost:8080/",
     "height": 424
    },
    "id": "u5r4-r0EzBOC",
    "outputId": "9eec93e9-5306-438c-d660-46121bc38f9d"
   },
   "outputs": [
    {
     "data": {
      "text/html": [
       "<div>\n",
       "<style scoped>\n",
       "    .dataframe tbody tr th:only-of-type {\n",
       "        vertical-align: middle;\n",
       "    }\n",
       "\n",
       "    .dataframe tbody tr th {\n",
       "        vertical-align: top;\n",
       "    }\n",
       "\n",
       "    .dataframe thead th {\n",
       "        text-align: right;\n",
       "    }\n",
       "</style>\n",
       "<table border=\"1\" class=\"dataframe\">\n",
       "  <thead>\n",
       "    <tr style=\"text-align: right;\">\n",
       "      <th></th>\n",
       "      <th>index</th>\n",
       "      <th>kwH Remaining</th>\n",
       "      <th>kwH Purchased</th>\n",
       "      <th>timestamp</th>\n",
       "      <th>Month</th>\n",
       "      <th>Year</th>\n",
       "      <th>Total kwH Purchased</th>\n",
       "      <th>Total kwH Consumed</th>\n",
       "    </tr>\n",
       "  </thead>\n",
       "  <tbody>\n",
       "    <tr>\n",
       "      <th>0</th>\n",
       "      <td>0</td>\n",
       "      <td>500.00</td>\n",
       "      <td>0.0</td>\n",
       "      <td>2020-06-03 18:30:00</td>\n",
       "      <td>6</td>\n",
       "      <td>2020</td>\n",
       "      <td>0.00</td>\n",
       "      <td>0.00</td>\n",
       "    </tr>\n",
       "    <tr>\n",
       "      <th>1</th>\n",
       "      <td>1</td>\n",
       "      <td>470.00</td>\n",
       "      <td>0.0</td>\n",
       "      <td>2020-06-03 18:50:00</td>\n",
       "      <td>6</td>\n",
       "      <td>2020</td>\n",
       "      <td>0.00</td>\n",
       "      <td>30.00</td>\n",
       "    </tr>\n",
       "    <tr>\n",
       "      <th>2</th>\n",
       "      <td>2</td>\n",
       "      <td>420.00</td>\n",
       "      <td>0.0</td>\n",
       "      <td>2020-06-04 08:00:00</td>\n",
       "      <td>6</td>\n",
       "      <td>2020</td>\n",
       "      <td>0.00</td>\n",
       "      <td>80.00</td>\n",
       "    </tr>\n",
       "    <tr>\n",
       "      <th>3</th>\n",
       "      <td>3</td>\n",
       "      <td>365.00</td>\n",
       "      <td>0.0</td>\n",
       "      <td>2020-06-04 17:00:00</td>\n",
       "      <td>6</td>\n",
       "      <td>2020</td>\n",
       "      <td>0.00</td>\n",
       "      <td>135.00</td>\n",
       "    </tr>\n",
       "    <tr>\n",
       "      <th>4</th>\n",
       "      <td>4</td>\n",
       "      <td>310.00</td>\n",
       "      <td>0.0</td>\n",
       "      <td>2020-06-05 08:00:00</td>\n",
       "      <td>6</td>\n",
       "      <td>2020</td>\n",
       "      <td>0.00</td>\n",
       "      <td>190.00</td>\n",
       "    </tr>\n",
       "    <tr>\n",
       "      <th>...</th>\n",
       "      <td>...</td>\n",
       "      <td>...</td>\n",
       "      <td>...</td>\n",
       "      <td>...</td>\n",
       "      <td>...</td>\n",
       "      <td>...</td>\n",
       "      <td>...</td>\n",
       "      <td>...</td>\n",
       "    </tr>\n",
       "    <tr>\n",
       "      <th>1488</th>\n",
       "      <td>1488</td>\n",
       "      <td>288.81</td>\n",
       "      <td>0.0</td>\n",
       "      <td>2023-02-06 08:42:00</td>\n",
       "      <td>2</td>\n",
       "      <td>2023</td>\n",
       "      <td>145355.23</td>\n",
       "      <td>145566.42</td>\n",
       "    </tr>\n",
       "    <tr>\n",
       "      <th>1489</th>\n",
       "      <td>1489</td>\n",
       "      <td>93.58</td>\n",
       "      <td>0.0</td>\n",
       "      <td>2023-02-06 17:35:00</td>\n",
       "      <td>2</td>\n",
       "      <td>2023</td>\n",
       "      <td>145355.23</td>\n",
       "      <td>145761.65</td>\n",
       "    </tr>\n",
       "    <tr>\n",
       "      <th>1490</th>\n",
       "      <td>1490</td>\n",
       "      <td>801.06</td>\n",
       "      <td>800.0</td>\n",
       "      <td>2023-02-07 14:50:00</td>\n",
       "      <td>2</td>\n",
       "      <td>2023</td>\n",
       "      <td>146155.23</td>\n",
       "      <td>145854.17</td>\n",
       "    </tr>\n",
       "    <tr>\n",
       "      <th>1491</th>\n",
       "      <td>1491</td>\n",
       "      <td>766.15</td>\n",
       "      <td>0.0</td>\n",
       "      <td>2023-02-07 17:20:00</td>\n",
       "      <td>2</td>\n",
       "      <td>2023</td>\n",
       "      <td>146155.23</td>\n",
       "      <td>145889.08</td>\n",
       "    </tr>\n",
       "    <tr>\n",
       "      <th>1492</th>\n",
       "      <td>1492</td>\n",
       "      <td>611.47</td>\n",
       "      <td>0.0</td>\n",
       "      <td>2023-02-08 08:10:00</td>\n",
       "      <td>2</td>\n",
       "      <td>2023</td>\n",
       "      <td>146155.23</td>\n",
       "      <td>146043.76</td>\n",
       "    </tr>\n",
       "  </tbody>\n",
       "</table>\n",
       "<p>1493 rows × 8 columns</p>\n",
       "</div>"
      ],
      "text/plain": [
       "      index  kwH Remaining  kwH Purchased           timestamp  Month  Year  \\\n",
       "0         0         500.00            0.0 2020-06-03 18:30:00      6  2020   \n",
       "1         1         470.00            0.0 2020-06-03 18:50:00      6  2020   \n",
       "2         2         420.00            0.0 2020-06-04 08:00:00      6  2020   \n",
       "3         3         365.00            0.0 2020-06-04 17:00:00      6  2020   \n",
       "4         4         310.00            0.0 2020-06-05 08:00:00      6  2020   \n",
       "...     ...            ...            ...                 ...    ...   ...   \n",
       "1488   1488         288.81            0.0 2023-02-06 08:42:00      2  2023   \n",
       "1489   1489          93.58            0.0 2023-02-06 17:35:00      2  2023   \n",
       "1490   1490         801.06          800.0 2023-02-07 14:50:00      2  2023   \n",
       "1491   1491         766.15            0.0 2023-02-07 17:20:00      2  2023   \n",
       "1492   1492         611.47            0.0 2023-02-08 08:10:00      2  2023   \n",
       "\n",
       "      Total kwH Purchased  Total kwH Consumed  \n",
       "0                    0.00                0.00  \n",
       "1                    0.00               30.00  \n",
       "2                    0.00               80.00  \n",
       "3                    0.00              135.00  \n",
       "4                    0.00              190.00  \n",
       "...                   ...                 ...  \n",
       "1488            145355.23           145566.42  \n",
       "1489            145355.23           145761.65  \n",
       "1490            146155.23           145854.17  \n",
       "1491            146155.23           145889.08  \n",
       "1492            146155.23           146043.76  \n",
       "\n",
       "[1493 rows x 8 columns]"
      ]
     },
     "execution_count": 6,
     "metadata": {},
     "output_type": "execute_result"
    }
   ],
   "source": [
    "electr_df['Total kwH Consumed'] = electr_df['kwH Remaining'].iloc[0] + electr_df['Total kwH Consumed']\n",
    "electr_df"
   ]
  },
  {
   "cell_type": "markdown",
   "metadata": {},
   "source": [
    "Let's graph the data to see if there are any trends we can pick out."
   ]
  },
  {
   "cell_type": "code",
   "execution_count": 7,
   "metadata": {},
   "outputs": [
    {
     "data": {
      "text/plain": [
       "<Axes: xlabel='timestamp'>"
      ]
     },
     "execution_count": 7,
     "metadata": {},
     "output_type": "execute_result"
    },
    {
     "data": {
      "image/png": "[encoded data removed]",
      "text/plain": [
       "<Figure size 640x480 with 1 Axes>"
      ]
     },
     "metadata": {},
     "output_type": "display_data"
    }
   ],
   "source": [
    "electr_df.plot('timestamp', 'Total kwH Consumed')"
   ]
  },
  {
   "cell_type": "markdown",
   "metadata": {},
   "source": [
    "Looking at the graph above, the shape of the data seems roughly linear, but the slope of the curve gets noticeably steeper as time passes. This slope represents the rate of energy consumption, which is the variable we are most interested in.\n",
    "\n",
    "Since the time series data we have is unevenly spaced, let's get it expressed in terms of regular intervals. Many time series analysis methods require evenly spaced data, so this gives us a much wider range of options. It also helps smooth out any outliers in the data caused by rapid energy changes over short time periods. The below method re-expresses the data with gaps of 1 day intervals via linear interpolation."
   ]
  },
  {
   "cell_type": "code",
   "execution_count": 8,
   "metadata": {
    "id": "8jDRjq2F2pOw"
   },
   "outputs": [],
   "source": [
    "ts = traces.TimeSeries(list(electr_df[['timestamp', 'Total kwH Consumed']].itertuples(index=False, name=None)))\n",
    "a = traces.TimeSeries(ts.sample(\n",
    "    sampling_period=pd.Timedelta(days = 1),\n",
    "    interpolate='linear'\n",
    "))\n",
    "\n",
    "time = pd.Series([x for x, y in a.items()])\n",
    "cons = pd.Series([y for x, y in a.items()])\n",
    "\n",
    "reg_df = pd.DataFrame({\"Date\" : time, \"Total Energy Consumed (kwH)\" : cons})"
   ]
  },
  {
   "cell_type": "code",
   "execution_count": 9,
   "metadata": {},
   "outputs": [
    {
     "data": {
      "text/html": [
       "<div>\n",
       "<style scoped>\n",
       "    .dataframe tbody tr th:only-of-type {\n",
       "        vertical-align: middle;\n",
       "    }\n",
       "\n",
       "    .dataframe tbody tr th {\n",
       "        vertical-align: top;\n",
       "    }\n",
       "\n",
       "    .dataframe thead th {\n",
       "        text-align: right;\n",
       "    }\n",
       "</style>\n",
       "<table border=\"1\" class=\"dataframe\">\n",
       "  <thead>\n",
       "    <tr style=\"text-align: right;\">\n",
       "      <th></th>\n",
       "      <th>Date</th>\n",
       "      <th>Total Energy Consumed (kwH)</th>\n",
       "    </tr>\n",
       "  </thead>\n",
       "  <tbody>\n",
       "    <tr>\n",
       "      <th>0</th>\n",
       "      <td>2020-06-03 18:30:00</td>\n",
       "      <td>0.000000</td>\n",
       "    </tr>\n",
       "    <tr>\n",
       "      <th>1</th>\n",
       "      <td>2020-06-04 18:30:00</td>\n",
       "      <td>140.500000</td>\n",
       "    </tr>\n",
       "    <tr>\n",
       "      <th>2</th>\n",
       "      <td>2020-06-05 18:30:00</td>\n",
       "      <td>266.206897</td>\n",
       "    </tr>\n",
       "    <tr>\n",
       "      <th>3</th>\n",
       "      <td>2020-06-06 18:30:00</td>\n",
       "      <td>324.869302</td>\n",
       "    </tr>\n",
       "    <tr>\n",
       "      <th>4</th>\n",
       "      <td>2020-06-07 18:30:00</td>\n",
       "      <td>391.935349</td>\n",
       "    </tr>\n",
       "  </tbody>\n",
       "</table>\n",
       "</div>"
      ],
      "text/plain": [
       "                 Date  Total Energy Consumed (kwH)\n",
       "0 2020-06-03 18:30:00                     0.000000\n",
       "1 2020-06-04 18:30:00                   140.500000\n",
       "2 2020-06-05 18:30:00                   266.206897\n",
       "3 2020-06-06 18:30:00                   324.869302\n",
       "4 2020-06-07 18:30:00                   391.935349"
      ]
     },
     "execution_count": 9,
     "metadata": {},
     "output_type": "execute_result"
    }
   ],
   "source": [
    "reg_df.head()"
   ]
  },
  {
   "cell_type": "markdown",
   "metadata": {},
   "source": [
    "We see that the data is in our desired format. Let's graph it to make sure that the regularization process did not alter its shape."
   ]
  },
  {
   "cell_type": "code",
   "execution_count": 10,
   "metadata": {},
   "outputs": [
    {
     "data": {
      "text/plain": [
       "<Axes: xlabel='Date'>"
      ]
     },
     "execution_count": 10,
     "metadata": {},
     "output_type": "execute_result"
    },
    {
     "data": {
      "image/png": "[encoded data removed]",
      "text/plain": [
       "<Figure size 640x480 with 1 Axes>"
      ]
     },
     "metadata": {},
     "output_type": "display_data"
    }
   ],
   "source": [
    "reg_df.plot('Date', 'Total Energy Consumed (kwH)')"
   ]
  },
  {
   "cell_type": "markdown",
   "metadata": {},
   "source": [
    "Visually, the data seems almost indistinguishable from the original, which implies our regularization smoothed out the data without altering any of its trends.\n",
    "\n",
    "Next, we calculate the slope (derivative) at each point using np.gradient. Note that this slope represents the daily energy use of the hospital."
   ]
  },
  {
   "cell_type": "code",
   "execution_count": 11,
   "metadata": {},
   "outputs": [
    {
     "data": {
      "text/html": [
       "<div>\n",
       "<style scoped>\n",
       "    .dataframe tbody tr th:only-of-type {\n",
       "        vertical-align: middle;\n",
       "    }\n",
       "\n",
       "    .dataframe tbody tr th {\n",
       "        vertical-align: top;\n",
       "    }\n",
       "\n",
       "    .dataframe thead th {\n",
       "        text-align: right;\n",
       "    }\n",
       "</style>\n",
       "<table border=\"1\" class=\"dataframe\">\n",
       "  <thead>\n",
       "    <tr style=\"text-align: right;\">\n",
       "      <th></th>\n",
       "      <th>Date</th>\n",
       "      <th>Total Energy Consumed (kwH)</th>\n",
       "      <th>Daily Energy Consumption (kwH)</th>\n",
       "    </tr>\n",
       "  </thead>\n",
       "  <tbody>\n",
       "    <tr>\n",
       "      <th>0</th>\n",
       "      <td>2020-06-03 18:30:00</td>\n",
       "      <td>0.000000</td>\n",
       "      <td>140.500000</td>\n",
       "    </tr>\n",
       "    <tr>\n",
       "      <th>1</th>\n",
       "      <td>2020-06-04 18:30:00</td>\n",
       "      <td>140.500000</td>\n",
       "      <td>133.103448</td>\n",
       "    </tr>\n",
       "    <tr>\n",
       "      <th>2</th>\n",
       "      <td>2020-06-05 18:30:00</td>\n",
       "      <td>266.206897</td>\n",
       "      <td>92.184651</td>\n",
       "    </tr>\n",
       "    <tr>\n",
       "      <th>3</th>\n",
       "      <td>2020-06-06 18:30:00</td>\n",
       "      <td>324.869302</td>\n",
       "      <td>62.864226</td>\n",
       "    </tr>\n",
       "    <tr>\n",
       "      <th>4</th>\n",
       "      <td>2020-06-07 18:30:00</td>\n",
       "      <td>391.935349</td>\n",
       "      <td>293.996258</td>\n",
       "    </tr>\n",
       "  </tbody>\n",
       "</table>\n",
       "</div>"
      ],
      "text/plain": [
       "                 Date  Total Energy Consumed (kwH)  \\\n",
       "0 2020-06-03 18:30:00                     0.000000   \n",
       "1 2020-06-04 18:30:00                   140.500000   \n",
       "2 2020-06-05 18:30:00                   266.206897   \n",
       "3 2020-06-06 18:30:00                   324.869302   \n",
       "4 2020-06-07 18:30:00                   391.935349   \n",
       "\n",
       "   Daily Energy Consumption (kwH)  \n",
       "0                      140.500000  \n",
       "1                      133.103448  \n",
       "2                       92.184651  \n",
       "3                       62.864226  \n",
       "4                      293.996258  "
      ]
     },
     "execution_count": 11,
     "metadata": {},
     "output_type": "execute_result"
    }
   ],
   "source": [
    "reg_df['Daily Energy Consumption (kwH)'] = np.gradient(reg_df['Total Energy Consumed (kwH)'])\n",
    "reg_df.head()"
   ]
  },
  {
   "cell_type": "markdown",
   "metadata": {},
   "source": [
    "Now, let's plot this data to see if there are any trends."
   ]
  },
  {
   "cell_type": "code",
   "execution_count": 17,
   "metadata": {},
   "outputs": [
    {
     "data": {
      "text/plain": [
       "<Axes: xlabel='Date', ylabel='Daily Energy Consumption (kwH)'>"
      ]
     },
     "execution_count": 17,
     "metadata": {},
     "output_type": "execute_result"
    },
    {
     "data": {
      "image/png": "[encoded data removed]",
      "text/plain": [
       "<Figure size 640x480 with 1 Axes>"
      ]
     },
     "metadata": {},
     "output_type": "display_data"
    }
   ],
   "source": [
    "reg_df.plot('Date', 'Daily Energy Consumption (kwH)', kind = 'scatter')"
   ]
  },
  {
   "cell_type": "markdown",
   "metadata": {},
   "source": [
    "The data is quite noisy, but definitely seems to have a positive trend. Let's try to fit it with a linear regression."
   ]
  },
  {
   "cell_type": "code",
   "execution_count": 41,
   "metadata": {},
   "outputs": [
    {
     "data": {
      "text/html": [
       "<table class=\"simpletable\">\n",
       "<caption>OLS Regression Results</caption>\n",
       "<tr>\n",
       "  <th>Dep. Variable:</th>    <td>Daily Energy Consumption (kwH)</td> <th>  R-squared:         </th> <td>   0.119</td> \n",
       "</tr>\n",
       "<tr>\n",
       "  <th>Model:</th>                          <td>OLS</td>              <th>  Adj. R-squared:    </th> <td>   0.118</td> \n",
       "</tr>\n",
       "<tr>\n",
       "  <th>Method:</th>                    <td>Least Squares</td>         <th>  F-statistic:       </th> <td>   132.0</td> \n",
       "</tr>\n",
       "<tr>\n",
       "  <th>Date:</th>                    <td>Tue, 06 Jun 2023</td>        <th>  Prob (F-statistic):</th> <td>9.65e-29</td> \n",
       "</tr>\n",
       "<tr>\n",
       "  <th>Time:</th>                        <td>13:23:01</td>            <th>  Log-Likelihood:    </th> <td> -5583.1</td> \n",
       "</tr>\n",
       "<tr>\n",
       "  <th>No. Observations:</th>             <td>   980</td>             <th>  AIC:               </th> <td>1.117e+04</td>\n",
       "</tr>\n",
       "<tr>\n",
       "  <th>Df Residuals:</th>                 <td>   978</td>             <th>  BIC:               </th> <td>1.118e+04</td>\n",
       "</tr>\n",
       "<tr>\n",
       "  <th>Df Model:</th>                     <td>     1</td>             <th>                     </th>     <td> </td>    \n",
       "</tr>\n",
       "<tr>\n",
       "  <th>Covariance Type:</th>             <td>nonrobust</td>           <th>                     </th>     <td> </td>    \n",
       "</tr>\n",
       "</table>\n",
       "<table class=\"simpletable\">\n",
       "<tr>\n",
       "    <td></td>       <th>coef</th>     <th>std err</th>      <th>t</th>      <th>P>|t|</th>  <th>[0.025</th>    <th>0.975]</th>  \n",
       "</tr>\n",
       "<tr>\n",
       "  <th>const</th> <td>  103.1905</td> <td>    4.608</td> <td>   22.395</td> <td> 0.000</td> <td>   94.148</td> <td>  112.233</td>\n",
       "</tr>\n",
       "<tr>\n",
       "  <th>Day</th>   <td>    0.0936</td> <td>    0.008</td> <td>   11.488</td> <td> 0.000</td> <td>    0.078</td> <td>    0.110</td>\n",
       "</tr>\n",
       "</table>\n",
       "<table class=\"simpletable\">\n",
       "<tr>\n",
       "  <th>Omnibus:</th>       <td>131.949</td> <th>  Durbin-Watson:     </th> <td>   0.903</td> \n",
       "</tr>\n",
       "<tr>\n",
       "  <th>Prob(Omnibus):</th> <td> 0.000</td>  <th>  Jarque-Bera (JB):  </th> <td> 765.287</td> \n",
       "</tr>\n",
       "<tr>\n",
       "  <th>Skew:</th>          <td>-0.453</td>  <th>  Prob(JB):          </th> <td>6.61e-167</td>\n",
       "</tr>\n",
       "<tr>\n",
       "  <th>Kurtosis:</th>      <td> 7.233</td>  <th>  Cond. No.          </th> <td>1.13e+03</td> \n",
       "</tr>\n",
       "</table><br/><br/>Notes:<br/>[1] Standard Errors assume that the covariance matrix of the errors is correctly specified.<br/>[2] The condition number is large, 1.13e+03. This might indicate that there are<br/>strong multicollinearity or other numerical problems."
      ],
      "text/latex": [
       "\\begin{center}\n",
       "\\begin{tabular}{lclc}\n",
       "\\toprule\n",
       "\\textbf{Dep. Variable:}    & Daily Energy Consumption (kwH) & \\textbf{  R-squared:         } &     0.119   \\\\\n",
       "\\textbf{Model:}            &              OLS               & \\textbf{  Adj. R-squared:    } &     0.118   \\\\\n",
       "\\textbf{Method:}           &         Least Squares          & \\textbf{  F-statistic:       } &     132.0   \\\\\n",
       "\\textbf{Date:}             &        Tue, 06 Jun 2023        & \\textbf{  Prob (F-statistic):} &  9.65e-29   \\\\\n",
       "\\textbf{Time:}             &            13:23:01            & \\textbf{  Log-Likelihood:    } &   -5583.1   \\\\\n",
       "\\textbf{No. Observations:} &                980             & \\textbf{  AIC:               } & 1.117e+04   \\\\\n",
       "\\textbf{Df Residuals:}     &                978             & \\textbf{  BIC:               } & 1.118e+04   \\\\\n",
       "\\textbf{Df Model:}         &                  1             & \\textbf{                     } &             \\\\\n",
       "\\textbf{Covariance Type:}  &           nonrobust            & \\textbf{                     } &             \\\\\n",
       "\\bottomrule\n",
       "\\end{tabular}\n",
       "\\begin{tabular}{lcccccc}\n",
       "               & \\textbf{coef} & \\textbf{std err} & \\textbf{t} & \\textbf{P$> |$t$|$} & \\textbf{[0.025} & \\textbf{0.975]}  \\\\\n",
       "\\midrule\n",
       "\\textbf{const} &     103.1905  &        4.608     &    22.395  &         0.000        &       94.148    &      112.233     \\\\\n",
       "\\textbf{Day}   &       0.0936  &        0.008     &    11.488  &         0.000        &        0.078    &        0.110     \\\\\n",
       "\\bottomrule\n",
       "\\end{tabular}\n",
       "\\begin{tabular}{lclc}\n",
       "\\textbf{Omnibus:}       & 131.949 & \\textbf{  Durbin-Watson:     } &     0.903  \\\\\n",
       "\\textbf{Prob(Omnibus):} &   0.000 & \\textbf{  Jarque-Bera (JB):  } &   765.287  \\\\\n",
       "\\textbf{Skew:}          &  -0.453 & \\textbf{  Prob(JB):          } & 6.61e-167  \\\\\n",
       "\\textbf{Kurtosis:}      &   7.233 & \\textbf{  Cond. No.          } &  1.13e+03  \\\\\n",
       "\\bottomrule\n",
       "\\end{tabular}\n",
       "%\\caption{OLS Regression Results}\n",
       "\\end{center}\n",
       "\n",
       "Notes: \\newline\n",
       " [1] Standard Errors assume that the covariance matrix of the errors is correctly specified. \\newline\n",
       " [2] The condition number is large, 1.13e+03. This might indicate that there are \\newline\n",
       " strong multicollinearity or other numerical problems."
      ],
      "text/plain": [
       "<class 'statsmodels.iolib.summary.Summary'>\n",
       "\"\"\"\n",
       "                                  OLS Regression Results                                  \n",
       "==========================================================================================\n",
       "Dep. Variable:     Daily Energy Consumption (kwH)   R-squared:                       0.119\n",
       "Model:                                        OLS   Adj. R-squared:                  0.118\n",
       "Method:                             Least Squares   F-statistic:                     132.0\n",
       "Date:                            Tue, 06 Jun 2023   Prob (F-statistic):           9.65e-29\n",
       "Time:                                    13:23:01   Log-Likelihood:                -5583.1\n",
       "No. Observations:                             980   AIC:                         1.117e+04\n",
       "Df Residuals:                                 978   BIC:                         1.118e+04\n",
       "Df Model:                                       1                                         \n",
       "Covariance Type:                        nonrobust                                         \n",
       "==============================================================================\n",
       "                 coef    std err          t      P>|t|      [0.025      0.975]\n",
       "------------------------------------------------------------------------------\n",
       "const        103.1905      4.608     22.395      0.000      94.148     112.233\n",
       "Day            0.0936      0.008     11.488      0.000       0.078       0.110\n",
       "==============================================================================\n",
       "Omnibus:                      131.949   Durbin-Watson:                   0.903\n",
       "Prob(Omnibus):                  0.000   Jarque-Bera (JB):              765.287\n",
       "Skew:                          -0.453   Prob(JB):                    6.61e-167\n",
       "Kurtosis:                       7.233   Cond. No.                     1.13e+03\n",
       "==============================================================================\n",
       "\n",
       "Notes:\n",
       "[1] Standard Errors assume that the covariance matrix of the errors is correctly specified.\n",
       "[2] The condition number is large, 1.13e+03. This might indicate that there are\n",
       "strong multicollinearity or other numerical problems.\n",
       "\"\"\""
      ]
     },
     "execution_count": 41,
     "metadata": {},
     "output_type": "execute_result"
    }
   ],
   "source": [
    "from statsmodels.tsa.arima.model import ARIMA\n",
    "\n",
    "reg_df['Day'] = (reg_df['Date'] - reg_df['Date'].iloc[0]).apply(lambda x: x.days)\n",
    "\n",
    "X = sm.add_constant(reg_df['Day'])\n",
    "Y = reg_df['Daily Energy Consumption (kwH)']\n",
    "\n",
    "lin_model = sm.OLS(Y, X, missing = 'drop').fit()\n",
    "\n",
    "lin_model.summary()"
   ]
  },
  {
   "cell_type": "markdown",
   "metadata": {},
   "source": [
    "The summary above demonstrates that there is a statistically significant increase in the hospital's daily energy use over time. On average, the hospital's daily energy use increases by 0.09 kwH/day (ie. on average, the hospital uses 0.09 kwH more energy on a given day than on the day before.)."
   ]
  },
  {
   "cell_type": "markdown",
   "metadata": {},
   "source": [
    "Let's graph the data and the regression line to get a picture of what this looks like."
   ]
  },
  {
   "cell_type": "code",
   "execution_count": 48,
   "metadata": {},
   "outputs": [
    {
     "data": {
      "text/plain": [
       "<matplotlib.legend.Legend at 0x142be9180>"
      ]
     },
     "execution_count": 48,
     "metadata": {},
     "output_type": "execute_result"
    },
    {
     "data": {
      "image/png": "[encoded data removed]",
      "text/plain": [
       "<Figure size 800x600 with 1 Axes>"
      ]
     },
     "metadata": {},
     "output_type": "display_data"
    }
   ],
   "source": [
    "reg_df['Predicted Daily Energy Consumption (kwH)'] = lin_model.predict(X)\n",
    "\n",
    "fig, ax = plt.subplots(figsize=(8, 6))\n",
    "\n",
    "plt.xticks(rotation=20)\n",
    "\n",
    "plt.xlabel(\"Date\")\n",
    "plt.ylabel(\"kwH\")\n",
    "\n",
    "plt.scatter(reg_df['Date'], reg_df['Daily Energy Consumption (kwH)'], label = 'Daily Energy Consumption')\n",
    "plt.plot(reg_df['Date'], reg_df['Predicted Daily Energy Consumption (kwH)'], color = 'r', linewidth=4, label = 'Regression of Daily Energy Consumption')\n",
    "plt.legend(bbox_to_anchor=(0.3, 1))\n",
    "\n"
   ]
  },
  {
   "cell_type": "markdown",
   "metadata": {},
   "source": [
    "Above, we can see that the hospital's daily energy usage steadily increases over time. The regression line above illustrates this trend, and the miniscule P-value we got indicates this increase is statistically significant.\n",
    "\n",
    "Note: Looking at the graph, there seems to be a sizable number of values showing negative daily energy usage. I am guessing this is either due to errors when entering the data or a mistake in my processing. "
   ]
  }
 ],
 "metadata": {
  "colab": {
   "include_colab_link": true,
   "provenance": []
  },
  "kernelspec": {
   "display_name": "Python 3 (ipykernel)",
   "language": "python",
   "name": "python3"
  },
  "language_info": {
   "codemirror_mode": {
    "name": "ipython",
    "version": 3
   },
   "file_extension": ".py",
   "mimetype": "text/x-python",
   "name": "python",
   "nbconvert_exporter": "python",
   "pygments_lexer": "ipython3",
   "version": "3.10.9"
  }
 },
 "nbformat": 4,
 "nbformat_minor": 1
}
